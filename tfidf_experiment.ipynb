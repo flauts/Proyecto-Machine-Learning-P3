{
 "cells": [
  {
   "metadata": {},
   "cell_type": "markdown",
   "source": [
    "# Extracción y Análisis de Características Textuales\n",
    "Este notebook implementa un análisis completo de texto utilizando TF-IDF y varios modelos de clasificación."
   ],
   "id": "9d2925138ba08567"
  },
  {
   "metadata": {},
   "cell_type": "code",
   "source": [
    "import os\n",
    "import pandas as pd\n",
    "import numpy as np\n",
    "import seaborn as sns\n",
    "import matplotlib.pyplot as plt\n",
    "from scipy.stats import randint\n",
    "from sklearn.feature_extraction.text import TfidfVectorizer\n",
    "from sklearn.model_selection import train_test_split, GridSearchCV, cross_val_score\n",
    "from sklearn.naive_bayes import MultinomialNB\n",
    "from sklearn.linear_model import LogisticRegression\n",
    "from sklearn.ensemble import RandomForestClassifier\n",
    "from sklearn.svm import LinearSVC\n",
    "from sklearn.metrics import confusion_matrix, classification_report, accuracy_score\n",
    "from joblib import load\n",
    "if not os.path.exists(\"plots/\"):\n",
    "    os.makedirs(\"plots/\")"
   ],
   "id": "d71a482c2a5f56e8",
   "outputs": [],
   "execution_count": null
  },
  {
   "metadata": {},
   "cell_type": "markdown",
   "source": [
    "## Carga y Preparación de Datos\n",
    "Cargamos las características TF-IDF y etiquetas previamente generadas."
   ],
   "id": "acddde43210268bc"
  },
  {
   "metadata": {},
   "cell_type": "code",
   "source": [
    "features = load('features/tfidf/features_train.joblib')\n",
    "labels = load('features/tfidf/labels_train.joblib')\n",
    "\n",
    "print(f\"Dimensiones de las características: {features.shape}\")\n",
    "print(f\"Número de clases únicas: {len(np.unique(labels))}\")"
   ],
   "id": "ee431a48415c74b4",
   "outputs": [],
   "execution_count": null
  },
  {
   "metadata": {},
   "cell_type": "code",
   "source": [
    "plt.figure(figsize=(10, 6))\n",
    "clase_counts = pd.Series(labels).value_counts()\n",
    "sns.barplot(x=clase_counts.index, y=clase_counts.values)\n",
    "plt.title('Distribución de Clases')\n",
    "plt.xlabel('Clase')\n",
    "plt.ylabel('Cantidad')\n",
    "plt.xticks(rotation=45)\n",
    "plt.tight_layout()\n",
    "plt.savefig('plots/class_distribution.png')"
   ],
   "id": "e98f5c28fd65acd8",
   "outputs": [],
   "execution_count": null
  },
  {
   "metadata": {
    "ExecuteTime": {
     "end_time": "2025-07-01T00:47:19.086943Z",
     "start_time": "2025-07-01T00:47:14.363116Z"
    }
   },
   "cell_type": "code",
   "source": [
    "X_train, X_test, y_train, y_test = train_test_split(features, labels, test_size=0.2, random_state=42)\n",
    "\n",
    "param_grid = {\n",
    "    'RandomForest': {\n",
    "        'n_estimators': [20],\n",
    "        'max_depth': [5, 10],\n",
    "        'min_samples_split': [2, 5]\n",
    "    },\n",
    "    'LogisticRegression': {\n",
    "        'C': [0.1, 1.0, 10.0],\n",
    "        'max_iter': [250]\n",
    "    },\n",
    "    'MultinomialNB': {\n",
    "        'alpha': [0.1, 0.5, 1.0, 2.0]\n",
    "    }\n",
    "}\n",
    "\n",
    "models = {\n",
    "    'RandomForest': RandomForestClassifier(random_state=42),\n",
    "    'LogisticRegression': LogisticRegression(random_state=42, solver=\"saga\"),\n",
    "    'MultinomialNB': MultinomialNB()\n",
    "}"
   ],
   "id": "5106800592eb9011",
   "outputs": [],
   "execution_count": 23
  },
  {
   "metadata": {},
   "cell_type": "code",
   "source": [
    "def evaluate_model(model, X_train, X_test, y_train, y_test):\n",
    "    model.fit(X_train, y_train)\n",
    "    y_pred = model.predict(X_test)\n",
    "\n",
    "    print(f\"\\nInforme de Clasificación:\")\n",
    "    print(classification_report(y_test, y_pred))\n",
    "\n",
    "    plt.figure(figsize=(8, 6))\n",
    "    cm = confusion_matrix(y_test, y_pred)\n",
    "    sns.heatmap(cm, annot=True, fmt='d', cmap='Blues')\n",
    "    plt.title('Matriz de Confusión')\n",
    "    plt.ylabel('Real')\n",
    "    plt.xlabel('Predicho')\n",
    "    plt.savefig(f\"plots/confusion_matrix_best_model.png\")\n",
    "\n",
    "    return accuracy_score(y_test, y_pred)"
   ],
   "id": "49b8b6ffd3c1e11e",
   "outputs": [],
   "execution_count": null
  },
  {
   "metadata": {
    "jupyter": {
     "is_executing": true
    },
    "ExecuteTime": {
     "start_time": "2025-07-01T00:47:28.078650Z"
    }
   },
   "cell_type": "code",
   "source": [
    "results = {}\n",
    "for name, model in models.items():\n",
    "    print(f\"\\nEntrenando {name}...\")\n",
    "    grid = GridSearchCV(model, param_grid[name], cv=4, scoring='precision_macro')\n",
    "    grid.fit(X_train, y_train)\n",
    "    results[name] = {\n",
    "        'best_score': grid.best_score_,\n",
    "        'best_params': grid.best_params_,\n",
    "        'model': grid.best_estimator_\n",
    "    }\n",
    "    print(f\"Mejor puntuación: {grid.best_score_:.4f}\")\n",
    "    print(f\"Mejores parámetros: {grid.best_params_}\")"
   ],
   "id": "58955947d1dc8907",
   "outputs": [
    {
     "name": "stdout",
     "output_type": "stream",
     "text": [
      "\n",
      "Entrenando RandomForest...\n"
     ]
    }
   ],
   "execution_count": null
  },
  {
   "metadata": {},
   "cell_type": "code",
   "source": [
    "plt.figure(figsize=(10, 6))\n",
    "scores = [v['best_score'] for v in results.values()]\n",
    "models_names = list(results.keys())\n",
    "sns.barplot(x=models_names, y=scores)\n",
    "plt.title('Comparación de Modelos')\n",
    "plt.ylabel('Puntuación')\n",
    "plt.ylim(0, 1)\n",
    "plt.xticks(rotation=45)\n",
    "plt.tight_layout()\n",
    "plt.savefig(\"plots/comparacion_modelos.png\")"
   ],
   "id": "54fcff392bc30d5d",
   "outputs": [],
   "execution_count": null
  },
  {
   "metadata": {},
   "cell_type": "code",
   "source": [
    "best_model_name = max(results, key=lambda k: results[k]['best_score'])\n",
    "best_model = results[best_model_name]['model']\n",
    "print(f\"\\nMejor modelo: {best_model_name}\")\n",
    "final_score = evaluate_model(best_model, X_train, X_test, y_train, y_test)\n",
    "print(f\"\\nPuntuación final en conjunto de prueba: {final_score:.4"
   ],
   "id": "1bdf304b9a8f44e6",
   "outputs": [],
   "execution_count": null
  },
  {
   "metadata": {},
   "cell_type": "markdown",
   "source": [
    "## Predicciones en Nuevos Datos\n",
    "Realizamos predicciones sobre nuevos datos utilizando el mejor modelo entrenado."
   ],
   "id": "171c18965ef0869"
  },
  {
   "metadata": {},
   "cell_type": "code",
   "source": [
    "predict_features = load('features/tfidf/features_predict.joblib')\n",
    "df_predict = pd.read_csv(\"BullyingPredict.csv\")\n",
    "predictions = best_model.predict(predict_features)\n",
    "\n",
    "sample_size = min(10, len(predictions))\n",
    "random_indices = np.random.choice(len(predictions), size=sample_size, replace=False)\n",
    "sample_predictions = pd.DataFrame({\n",
    "    'Texto': df_predict.iloc[random_indices]['text'],\n",
    "    'Predicción': predictions[random_indices]\n",
    "})\n",
    "display(sample_predictions)"
   ],
   "id": "37ec9551be6edb87",
   "outputs": [],
   "execution_count": null
  }
 ],
 "metadata": {
  "kernelspec": {
   "display_name": "Python 3",
   "language": "python",
   "name": "python3"
  },
  "language_info": {
   "codemirror_mode": {
    "name": "ipython",
    "version": 2
   },
   "file_extension": ".py",
   "mimetype": "text/x-python",
   "name": "python",
   "nbconvert_exporter": "python",
   "pygments_lexer": "ipython2",
   "version": "2.7.6"
  }
 },
 "nbformat": 4,
 "nbformat_minor": 5
}
