{
 "cells": [
  {
   "cell_type": "code",
   "execution_count": null,
   "id": "initial_id",
   "metadata": {
    "collapsed": true
   },
   "outputs": [],
   "source": [
    "import pandas as pd\n",
    "from sklearn.preprocessing import LabelEncoder\n",
    "from sklearn.utils import shuffle\n",
    "from joblib import dump, load"
   ]
  },
  {
   "metadata": {},
   "cell_type": "code",
   "outputs": [],
   "execution_count": null,
   "source": "",
   "id": "5c236481dcb506aa"
  },
  {
   "metadata": {},
   "cell_type": "code",
   "outputs": [],
   "execution_count": null,
   "source": [
    "from transformers import AutoModel, AutoTokenizer\n",
    "import torch\n",
    "import pandas as pd\n",
    "from sklearn.model_selection import train_test_split\n",
    "from joblib import dump\n",
    "import numpy as np\n",
    "\n",
    "# Load and prepare data\n",
    "df_train = pd.read_csv('BullyingMultiClase.csv')\n",
    "label_mapping = {\n",
    "    'not_cyberbullying': 0,\n",
    "    'gender/sexual': 1,\n",
    "    'ethnicity/race': 2,\n",
    "    'religion': 3\n",
    "}\n",
    "\n",
    "# Apply the mapping to your dataframe\n",
    "df_train['label'] = df_train['label'].map(label_mapping)\n",
    "unmapped = df_train['label'].isna().sum()\n",
    "if unmapped > 0:\n",
    "    print(f\"Warning: {unmapped} labels couldn't be mapped!\")\n",
    "    print(\"Unique labels in data:\", df_train['label'].unique())\n",
    "train_texts = df_train['text']\n",
    "train_labels = df_train['label']"
   ],
   "id": "244170c367b14627"
  },
  {
   "metadata": {},
   "cell_type": "code",
   "outputs": [],
   "execution_count": null,
   "source": [
    "\n",
    "# Initialize model and tokenizer\n",
    "model_ckpt = \"bert-base-uncased\"\n",
    "tokenizer = AutoTokenizer.from_pretrained(model_ckpt)\n",
    "device = torch.device(\"cuda\" if torch.cuda.is_available() else \"cpu\")\n",
    "print(\"device: \", device)\n",
    "model = AutoModel.from_pretrained(model_ckpt).to(device)\n",
    "\n",
    "def extract_features(texts, max_length=200):\n",
    "    \"\"\"Extract features from texts using BERT\"\"\"\n",
    "    all_hidden_states = []\n",
    "\n",
    "    # Process in batches to avoid memory issues\n",
    "    batch_size = 32\n",
    "    for i in range(0, len(texts), batch_size):\n",
    "        batch_texts = texts[i:i+batch_size].tolist()\n",
    "\n",
    "        # Tokenize batch\n",
    "        inputs = tokenizer(\n",
    "            batch_texts,\n",
    "            padding='max_length',\n",
    "            truncation=True,\n",
    "            max_length=max_length,  # You can tune this parameter\n",
    "            return_tensors=\"pt\"\n",
    "        )\n",
    "\n",
    "        # Move to device\n",
    "        inputs = {k: v.to(device) for k, v in inputs.items()}\n",
    "\n",
    "        # Extract features\n",
    "        with torch.no_grad():\n",
    "            outputs = model(**inputs)\n",
    "            # Use [CLS] token representation (first token)\n",
    "            cls_embeddings = outputs.last_hidden_state[:, 0, :]\n",
    "            all_hidden_states.append(cls_embeddings.cpu().numpy())\n",
    "\n",
    "    return np.vstack(all_hidden_states)\n"
   ],
   "id": "c0a748a394686523"
  },
  {
   "metadata": {},
   "cell_type": "code",
   "outputs": [],
   "execution_count": null,
   "source": [
    "\n",
    "# Extract features for all splits\n",
    "print(\"Extracting features...\")\n",
    "X_train = extract_features(train_texts)\n",
    "X_valid = extract_features(valid_texts)\n",
    "X_test = extract_features(test_texts)\n",
    "\n",
    "# Convert labels to numpy arrays\n",
    "y_train = np.array(train_labels)\n",
    "y_valid = np.array(valid_labels)\n",
    "y_test = np.array(test_labels)\n",
    "\n",
    "# Save extracted features\n",
    "print(\"Saving extracted features...\")\n",
    "\n",
    "dump(X_train, 'X_train_features.joblib')\n",
    "dump(X_valid, 'X_valid_features.joblib')\n",
    "dump(X_test, 'X_test_features.joblib')\n",
    "\n",
    "dump(y_train, 'y_train_features.joblib')\n",
    "dump(y_valid, 'y_valid_features.joblib')\n",
    "dump(y_test, 'y_test_features.joblib')\n",
    "\n",
    "print(f\"X_train shape: {X_train.shape}, y_train shape: {y_train.shape}\")\n",
    "print(f\"X_valid shape: {X_valid.shape}, y_valid shape: {y_valid.shape}\")\n",
    "print(f\"X_test shape: {X_test.shape}, y_test shape: {y_test.shape}\")"
   ],
   "id": "7abbb31fa2b9b67a"
  },
  {
   "metadata": {},
   "cell_type": "code",
   "outputs": [],
   "execution_count": null,
   "source": "",
   "id": "6a61e550cb886ead"
  }
 ],
 "metadata": {
  "kernelspec": {
   "display_name": "Python 3",
   "language": "python",
   "name": "python3"
  },
  "language_info": {
   "codemirror_mode": {
    "name": "ipython",
    "version": 2
   },
   "file_extension": ".py",
   "mimetype": "text/x-python",
   "name": "python",
   "nbconvert_exporter": "python",
   "pygments_lexer": "ipython2",
   "version": "2.7.6"
  }
 },
 "nbformat": 4,
 "nbformat_minor": 5
}
