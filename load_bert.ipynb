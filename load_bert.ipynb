{
 "cells": [
  {
   "cell_type": "code",
   "execution_count": null,
   "id": "initial_id",
   "metadata": {
    "collapsed": true
   },
   "outputs": [],
   "source": [
    "import torch\n",
    "from transformers import AutoTokenizer, AutoModelForSequenceClassification\n",
    "import joblib\n",
    "\n",
    "# Load tokenizer and model\n",
    "model_path = \"./saved_cyberbullying_model\"\n",
    "model = AutoModelForSequenceClassification.from_pretrained(model_path)\n",
    "tokenizer = AutoTokenizer.from_pretrained(model_path)\n",
    "\n",
    "# Load label encoder\n",
    "label_encoder = joblib.load(\"label_encoder.joblib\")\n",
    "\n",
    "# Move model to correct device\n",
    "device = torch.device(\"cuda\" if torch.cuda.is_available() else \"cpu\")\n",
    "model = model.to(device)\n",
    "model.eval()\n",
    "\n",
    "def predict(texts, model, tokenizer, label_encoder, device, max_len=128):\n",
    "    model.eval()\n",
    "    predictions = []\n",
    "    with torch.no_grad():\n",
    "        for text in texts:\n",
    "            encoded = tokenizer(\n",
    "                text,\n",
    "                return_tensors='pt',\n",
    "                padding='max_length',\n",
    "                truncation=True,\n",
    "                max_length=max_len\n",
    "            ).to(device)\n",
    "            outputs = model(**encoded)\n",
    "            logits = outputs.logits\n",
    "            pred_class_id = torch.argmax(logits, dim=1).item()\n",
    "            pred_class_name = label_encoder.inverse_transform([pred_class_id])[0]\n",
    "            predictions.append(pred_class_name)\n",
    "    return predictions\n",
    "texts_to_predict = [\n",
    "    \"No vales nada\",\n",
    "    \"Hola, ¿cómo estás?\",\n",
    "    \"¿Podrías dejar de molestarme, por favor?\"\n",
    "]\n",
    "\n",
    "results = predict(texts_to_predict, model, tokenizer, label_encoder, device)\n",
    "for text, label in zip(texts_to_predict, results):\n",
    "    print(f\"Text: {text}\\nPredicted Label: {label}\\n\")"
   ]
  }
 ],
 "metadata": {
  "kernelspec": {
   "display_name": "Python 3",
   "language": "python",
   "name": "python3"
  },
  "language_info": {
   "codemirror_mode": {
    "name": "ipython",
    "version": 2
   },
   "file_extension": ".py",
   "mimetype": "text/x-python",
   "name": "python",
   "nbconvert_exporter": "python",
   "pygments_lexer": "ipython2",
   "version": "2.7.6"
  }
 },
 "nbformat": 4,
 "nbformat_minor": 5
}
