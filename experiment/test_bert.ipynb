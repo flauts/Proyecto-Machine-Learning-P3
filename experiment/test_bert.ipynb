{
 "cells": [
  {
   "cell_type": "code",
   "id": "initial_id",
   "metadata": {
    "collapsed": true,
    "ExecuteTime": {
     "end_time": "2025-07-05T01:44:56.551146Z",
     "start_time": "2025-07-05T01:44:56.393224Z"
    }
   },
   "source": [
    "from transformers import AutoModelForSequenceClassification, AutoTokenizer\n",
    "import torch\n",
    "import pickle\n",
    "\n",
    "# Load the model and tokenizer\n",
    "model = AutoModelForSequenceClassification.from_pretrained(\"../bert_model\")\n",
    "tokenizer = AutoTokenizer.from_pretrained(\"../bert_model\")\n",
    "\n",
    "label_mapping = {\n",
    "    0: 'not_cyberbullying',\n",
    "    1: 'gender/sexual',\n",
    "    2: 'ethnicity/race',\n",
    "    3: 'religion'\n",
    "}\n",
    "\n",
    "# Function to predict new texts\n",
    "def predict_cyberbullying(text):\n",
    "    inputs = tokenizer(text, return_tensors=\"pt\", truncation=True, padding=True, max_length=200)\n",
    "\n",
    "    with torch.no_grad():\n",
    "        outputs = model(**inputs)\n",
    "        predictions = torch.nn.functional.softmax(outputs.logits, dim=-1)\n",
    "        predicted_class = torch.argmax(predictions, dim=-1).item()\n",
    "        confidence = predictions[0][predicted_class].item()\n",
    "\n",
    "    return label_mapping[predicted_class], confidence\n",
    "\n"
   ],
   "outputs": [
    {
     "name": "stdout",
     "output_type": "stream",
     "text": [
      "Text: You are a sucker!\n",
      "Prediction: not_cyberbullying (confidence: 1.000)\n"
     ]
    }
   ],
   "execution_count": 24
  },
  {
   "metadata": {
    "ExecuteTime": {
     "end_time": "2025-07-05T01:48:09.818649Z",
     "start_time": "2025-07-05T01:48:09.774966Z"
    }
   },
   "cell_type": "code",
   "source": [
    "\n",
    "# Test the loaded model\n",
    "text = \"why cant you say nigga, just say it\"\n",
    "prediction, confidence = predict_cyberbullying(text)\n",
    "print(f\"Text: {text}\")\n",
    "print(f\"Prediction: {prediction} (confidence: {confidence:.3f})\")\n"
   ],
   "id": "a2ac1f7a944acc56",
   "outputs": [
    {
     "name": "stdout",
     "output_type": "stream",
     "text": [
      "Text: why cant you say nigga, just say it\n",
      "Prediction: ethnicity/race (confidence: 1.000)\n"
     ]
    }
   ],
   "execution_count": 36
  }
 ],
 "metadata": {
  "kernelspec": {
   "display_name": "Python 3",
   "language": "python",
   "name": "python3"
  },
  "language_info": {
   "codemirror_mode": {
    "name": "ipython",
    "version": 2
   },
   "file_extension": ".py",
   "mimetype": "text/x-python",
   "name": "python",
   "nbconvert_exporter": "python",
   "pygments_lexer": "ipython2",
   "version": "2.7.6"
  }
 },
 "nbformat": 4,
 "nbformat_minor": 5
}
