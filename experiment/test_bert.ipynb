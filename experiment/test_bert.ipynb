{
 "cells": [
  {
   "cell_type": "code",
   "id": "initial_id",
   "metadata": {
    "collapsed": true,
    "ExecuteTime": {
     "end_time": "2025-07-05T03:23:30.505794Z",
     "start_time": "2025-07-05T03:23:30.413883Z"
    }
   },
   "source": [
    "from transformers import AutoModelForSequenceClassification, AutoTokenizer\n",
    "import torch\n",
    "import pickle\n",
    "\n",
    "# Load the model and tokenizer\n",
    "model = AutoModelForSequenceClassification.from_pretrained(\"../bert_model\")\n",
    "tokenizer = AutoTokenizer.from_pretrained(\"../bert_model\")\n",
    "\n",
    "label_mapping = {\n",
    "    0: 'not_cyberbullying',\n",
    "    1: 'gender/sexual',\n",
    "    2: 'ethnicity/race',\n",
    "    3: 'religion',\n",
    "    4: 'other_cyberbullying'\n",
    "}\n",
    "\n",
    "# Function to predict new texts\n",
    "def predict_cyberbullying(text):\n",
    "    inputs = tokenizer(text, return_tensors=\"pt\", truncation=True, padding=True, max_length=200)\n",
    "\n",
    "    with torch.no_grad():\n",
    "        outputs = model(**inputs)\n",
    "        predictions = torch.nn.functional.softmax(outputs.logits, dim=-1)\n",
    "        predicted_class = torch.argmax(predictions, dim=-1).item()\n",
    "        confidence = predictions[0][predicted_class].item()\n",
    "\n",
    "    return label_mapping[predicted_class], confidence\n",
    "\n"
   ],
   "outputs": [],
   "execution_count": 4
  },
  {
   "metadata": {
    "ExecuteTime": {
     "end_time": "2025-07-05T04:18:51.289732Z",
     "start_time": "2025-07-05T04:18:51.248142Z"
    }
   },
   "cell_type": "code",
   "source": [
    "# Test the loaded model\n",
    "text1 = \"He is not a dirty retard, he is actually handsome\"\n",
    "text = \"im gonna fuck you up\"\n",
    "prediction, confidence = predict_cyberbullying(text)\n",
    "print(f\"Text: {text}\")\n",
    "print(f\"Prediction: {prediction} (confidence: {confidence:.3f})\")\n"
   ],
   "id": "a2ac1f7a944acc56",
   "outputs": [
    {
     "name": "stdout",
     "output_type": "stream",
     "text": [
      "Text: im gonna fuck you up\n",
      "Prediction: not_cyberbullying (confidence: 0.961)\n"
     ]
    }
   ],
   "execution_count": 79
  },
  {
   "metadata": {
    "ExecuteTime": {
     "end_time": "2025-07-05T04:07:34.276051Z",
     "start_time": "2025-07-05T04:07:34.221663Z"
    }
   },
   "cell_type": "code",
   "source": [
    "import pandas as pd\n",
    "df = pd.read_csv('../datasets/test.csv')\n",
    "df.iloc[28485]"
   ],
   "id": "16226696424de133",
   "outputs": [
    {
     "data": {
      "text/plain": [
       "text     who you tryna clown you act like knew yo age w...\n",
       "label                                  other_cyberbullying\n",
       "Name: 28485, dtype: object"
      ]
     },
     "execution_count": 78,
     "metadata": {},
     "output_type": "execute_result"
    }
   ],
   "execution_count": 78
  }
 ],
 "metadata": {
  "kernelspec": {
   "display_name": "Python 3",
   "language": "python",
   "name": "python3"
  },
  "language_info": {
   "codemirror_mode": {
    "name": "ipython",
    "version": 2
   },
   "file_extension": ".py",
   "mimetype": "text/x-python",
   "name": "python",
   "nbconvert_exporter": "python",
   "pygments_lexer": "ipython2",
   "version": "2.7.6"
  }
 },
 "nbformat": 4,
 "nbformat_minor": 5
}
