{
 "cells": [
  {
   "cell_type": "code",
   "execution_count": 7,
   "id": "initial_id",
   "metadata": {
    "ExecuteTime": {
     "end_time": "2025-07-05T03:23:30.505794Z",
     "start_time": "2025-07-05T03:23:30.413883Z"
    },
    "collapsed": true
   },
   "outputs": [],
   "source": [
    "from transformers import AutoModelForSequenceClassification, AutoTokenizer\n",
    "import torch\n",
    "import pickle\n",
    "\n",
    "# Load the model and tokenizer\n",
    "model = AutoModelForSequenceClassification.from_pretrained(\"../bert_model\")\n",
    "tokenizer = AutoTokenizer.from_pretrained(\"../bert_model\")\n",
    "\n",
    "# Create inverse label mapping (from index to label name)\n",
    "label_mapping = {\n",
    "    0: 'not_cyberbullying',\n",
    "    1: 'gender',\n",
    "    2: 'ethnicity', \n",
    "    3: 'religion',\n",
    "    4: 'other_cyberbullying',\n",
    "    5: 'age'\n",
    "}\n",
    "\n",
    "# Function to predict new texts\n",
    "def predict_cyberbullying(text):\n",
    "    inputs = tokenizer(text, return_tensors=\"pt\", truncation=True, padding=True, max_length=200)\n",
    "\n",
    "    with torch.no_grad():\n",
    "        outputs = model(**inputs)\n",
    "        predictions = torch.nn.functional.softmax(outputs.logits, dim=-1)\n",
    "        predicted_class = torch.argmax(predictions, dim=-1).item()\n",
    "        confidence = predictions[0][predicted_class].item()\n",
    "\n",
    "    return label_mapping[predicted_class], confidence\n",
    "\n"
   ]
  },
  {
   "cell_type": "code",
   "execution_count": 8,
   "id": "a2ac1f7a944acc56",
   "metadata": {
    "ExecuteTime": {
     "end_time": "2025-07-05T04:18:51.289732Z",
     "start_time": "2025-07-05T04:18:51.248142Z"
    }
   },
   "outputs": [
    {
     "name": "stdout",
     "output_type": "stream",
     "text": [
      "Text: im gonna fuck you up\n",
      "Prediction: other_cyberbullying (confidence: 0.938)\n"
     ]
    }
   ],
   "source": [
    "# Test the loaded model\n",
    "text = \"im gonna fuck you up\"\n",
    "prediction, confidence = predict_cyberbullying(text)\n",
    "print(f\"Text: {text}\")\n",
    "print(f\"Prediction: {prediction} (confidence: {confidence:.3f})\")\n"
   ]
  },
  {
   "cell_type": "code",
   "execution_count": 78,
   "id": "16226696424de133",
   "metadata": {
    "ExecuteTime": {
     "end_time": "2025-07-05T04:07:34.276051Z",
     "start_time": "2025-07-05T04:07:34.221663Z"
    }
   },
   "outputs": [
    {
     "data": {
      "text/plain": [
       "text     who you tryna clown you act like knew yo age w...\n",
       "label                                  other_cyberbullying\n",
       "Name: 28485, dtype: object"
      ]
     },
     "execution_count": 78,
     "metadata": {},
     "output_type": "execute_result"
    }
   ],
   "source": [
    "import pandas as pd\n",
    "df = pd.read_csv('../old/test.csv')\n",
    "df.iloc[28485]"
   ]
  }
 ],
 "metadata": {
  "kernelspec": {
   "display_name": "Python 3",
   "language": "python",
   "name": "python3"
  },
  "language_info": {
   "codemirror_mode": {
    "name": "ipython",
    "version": 3
   },
   "file_extension": ".py",
   "mimetype": "text/x-python",
   "name": "python",
   "nbconvert_exporter": "python",
   "pygments_lexer": "ipython3",
   "version": "3.12.0"
  }
 },
 "nbformat": 4,
 "nbformat_minor": 5
}
