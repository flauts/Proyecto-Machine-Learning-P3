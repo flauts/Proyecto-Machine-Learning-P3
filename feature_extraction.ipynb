{
 "cells": [
  {
   "metadata": {
    "ExecuteTime": {
     "end_time": "2025-06-30T21:26:21.138288Z",
     "start_time": "2025-06-30T21:26:20.402367Z"
    }
   },
   "cell_type": "code",
   "source": [
    "import pandas as pd\n",
    "import os"
   ],
   "id": "fbc121e30a2defb3",
   "outputs": [],
   "execution_count": 2
  },
  {
   "metadata": {
    "ExecuteTime": {
     "end_time": "2025-06-30T21:27:34.793131Z",
     "start_time": "2025-06-30T21:27:34.533195Z"
    }
   },
   "cell_type": "code",
   "source": [
    "train_df = pd.read_csv('BullyingMultiClase.csv')\n",
    "predict_df = pd.read_csv('BullyingPredict.csv')"
   ],
   "id": "8e2a1c0bcee89e0a",
   "outputs": [
    {
     "data": {
      "text/plain": [
       "text     0\n",
       "label    0\n",
       "dtype: int64"
      ]
     },
     "execution_count": 5,
     "metadata": {},
     "output_type": "execute_result"
    }
   ],
   "execution_count": 5
  },
  {
   "metadata": {},
   "cell_type": "markdown",
   "source": "# Feature extraction",
   "id": "8dca5279f208ac93"
  },
  {
   "metadata": {},
   "cell_type": "code",
   "outputs": [],
   "execution_count": null,
   "source": [
    "if not os.path.exists('features'):\n",
    "    os.makedirs('features')"
   ],
   "id": "25fd321db9f39f96"
  },
  {
   "metadata": {},
   "cell_type": "markdown",
   "source": "# TF-IDF",
   "id": "4d021d4e24a49838"
  },
  {
   "metadata": {},
   "cell_type": "code",
   "outputs": [],
   "execution_count": null,
   "source": [
    "from sklearn.feature_extraction.text import TfidfVectorizer\n",
    "\n",
    "if not os.path.exists('features/tfidf'):\n",
    "    os.makedirs('features/tfidf')\n",
    "\n",
    "tfidf_folder = \"features/tfidf\""
   ],
   "id": "fcc9ecb2c0f3d839"
  },
  {
   "metadata": {},
   "cell_type": "code",
   "source": [
    "tfidf= TfidfVectorizer(sublinear_tf=True, min_df=5,\n",
    "                       ngram_range=(1, 2), stop_words='english', max_features=10000)\n",
    "features_train = tfidf.fit_transform(train_df.text).toarray()\n",
    "labels_train = train_df.label\n",
    "features_predict = tfidf.fit_transform(predict_df.text).toarray()"
   ],
   "id": "25ece46545a63c6d",
   "outputs": [],
   "execution_count": null
  },
  {
   "metadata": {},
   "cell_type": "code",
   "outputs": [],
   "execution_count": null,
   "source": [
    "import os\n",
    "from joblib import dump\n",
    "\n",
    "# Make sure the folder exists\n",
    "os.makedirs(tfidf_folder, exist_ok=True)\n",
    "\n",
    "# Save the TF-IDF vectorizer and features\n",
    "dump(tfidf, os.path.join(tfidf_folder, \"tfidf_vectorizer.joblib\"))\n",
    "dump(features_train, os.path.join(tfidf_folder, \"features_train.joblib\"))\n",
    "dump(labels_train, os.path.join(tfidf_folder, \"labels_train.joblib\"))\n",
    "dump(features_predict, os.path.join(tfidf_folder, \"features_predict.joblib\"))\n"
   ],
   "id": "221f1da396056556"
  },
  {
   "metadata": {},
   "cell_type": "markdown",
   "source": "# BERT_EMBEDDING",
   "id": "f965057cedf879f4"
  },
  {
   "metadata": {},
   "cell_type": "code",
   "outputs": [],
   "execution_count": null,
   "source": [
    "if not os.path.exists('features/tfidf'):\n",
    "    os.makedirs('features/tfidf')\n",
    "\n",
    "bert_folder = \"features/bert\""
   ],
   "id": "d577ba2d5c05311c"
  },
  {
   "metadata": {},
   "cell_type": "code",
   "outputs": [],
   "execution_count": null,
   "source": [
    "import torch\n",
    "from transformers import AutoTokenizer, AutoModel\n",
    "from torch.utils.data import DataLoader\n",
    "from tqdm import tqdm  # optional progress bar\n",
    "\n",
    "# 1. Set device\n",
    "device = torch.device('cuda' if torch.cuda.is_available() else 'cpu')\n",
    "\n",
    "# 2. Load tokenizer and base model (no classification head)\n",
    "tokenizer = AutoTokenizer.from_pretrained(\"xlm-roberta-base\")\n",
    "model = AutoModel.from_pretrained(\"xlm-roberta-base\").to(device)\n",
    "model.eval()  # Turn off dropout, etc.\n",
    "\n",
    "\n",
    "# 3. Define a mean pooling function\n",
    "def mean_pool(last_hidden_state, attention_mask):\n",
    "    mask = attention_mask.unsqueeze(-1).expand(last_hidden_state.size()).float()\n",
    "    summed = torch.sum(last_hidden_state * mask, dim=1)\n",
    "    counts = torch.clamp(mask.sum(1), min=1e-9)\n",
    "    return summed / counts  # Shape: [batch_size, 768]\n",
    "\n",
    "\n",
    "# 4. Function to extract features from a list of texts\n",
    "from tqdm import tqdm\n",
    "\n",
    "\n",
    "def extract_features(texts, batch_size=64):\n",
    "    all_embeddings = []\n",
    "    dataloader = DataLoader(texts, batch_size=batch_size)\n",
    "    for batch in tqdm(dataloader, desc=\"Extracting features\"):\n",
    "        # Tokenize a batch of texts\n",
    "        encoded = tokenizer(batch, padding=True, truncation=True,\n",
    "                            return_tensors=\"pt\", max_length=128)\n",
    "        encoded = {k: v.to(device) for k, v in encoded.items()}\n",
    "\n",
    "        with torch.no_grad():\n",
    "            output = model(**encoded)\n",
    "            embeddings = mean_pool(output.last_hidden_state, encoded[\"attention_mask\"])\n",
    "            all_embeddings.append(embeddings.cpu())\n",
    "\n",
    "    return torch.cat(all_embeddings, dim=0)\n",
    "\n",
    "\n",
    "# 5. Extract features for train data\n",
    "x_train = extract_features(train_df[\"text\"].tolist(), batch_size=256)\n",
    "y_train = train_df[\"label\"]\n",
    "\n",
    "# 6. Extract features for predict data\n",
    "x_predict = extract_features(predict_df[\"text\"].tolist(), batch_size=256)\n",
    "\n",
    "# 7. Save the features and labels\n",
    "torch.save(x_train, os.path.join(bert_folder, \"x_train.pt\"))\n",
    "torch.save(y_train, os.path.join(bert_folder, \"y_train.pt\"))\n",
    "torch.save(x_predict, os.path.join(bert_folder, \"x_predict.pt\"))\n"
   ],
   "id": "d5b2f870f2109ce7"
  },
  {
   "metadata": {},
   "cell_type": "code",
   "source": "",
   "id": "50456c8174d39dfd",
   "outputs": [],
   "execution_count": null
  }
 ],
 "metadata": {
  "kernelspec": {
   "display_name": "Python 3",
   "language": "python",
   "name": "python3"
  },
  "language_info": {
   "codemirror_mode": {
    "name": "ipython",
    "version": 2
   },
   "file_extension": ".py",
   "mimetype": "text/x-python",
   "name": "python",
   "nbconvert_exporter": "python",
   "pygments_lexer": "ipython2",
   "version": "2.7.6"
  }
 },
 "nbformat": 4,
 "nbformat_minor": 5
}
