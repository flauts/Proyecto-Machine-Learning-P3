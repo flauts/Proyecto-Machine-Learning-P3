{
 "cells": [
  {
   "cell_type": "code",
   "id": "47af4311",
   "metadata": {
    "ExecuteTime": {
     "end_time": "2025-06-26T15:18:40.199032Z",
     "start_time": "2025-06-26T15:18:11.475981Z"
    }
   },
   "source": [
    "import pandas as pd\n",
    "from datasets import Dataset\n",
    "from transformers import (\n",
    "    AutoTokenizer,\n",
    "    AutoModelForSequenceClassification,\n",
    "    Trainer,\n",
    "    TrainingArguments,\n",
    "    DataCollatorWithPadding,\n",
    ")\n",
    "import numpy as np\n",
    "from sklearn.metrics import accuracy_score, precision_recall_fscore_support"
   ],
   "outputs": [],
   "execution_count": 1
  },
  {
   "cell_type": "code",
   "id": "ce7cd512",
   "metadata": {
    "ExecuteTime": {
     "end_time": "2025-06-26T15:18:42.339764Z",
     "start_time": "2025-06-26T15:18:40.759785Z"
    }
   },
   "source": [
    "# Cargar el dataset\n",
    "df = pd.read_csv(\"BullyingFinal.csv\")\n",
    "\n",
    "# Asegurar columnas correctas\n",
    "df = df[[\"Text\", \"oh_label\"]].dropna()\n",
    "df[\"labels\"] = df[\"oh_label\"].astype(int)\n",
    "\n",
    "df = df.sample(frac=0.25,random_state=42)\n",
    "dataset = Dataset.from_pandas(df[[\"Text\", \"labels\"]])"
   ],
   "outputs": [],
   "execution_count": 2
  },
  {
   "metadata": {
    "ExecuteTime": {
     "end_time": "2025-06-26T15:18:43.323425Z",
     "start_time": "2025-06-26T15:18:43.318672Z"
    }
   },
   "cell_type": "code",
   "source": "print(df['labels'].value_counts())",
   "id": "412fa8054765c08f",
   "outputs": [
    {
     "name": "stdout",
     "output_type": "stream",
     "text": [
      "labels\n",
      "0    64041\n",
      "1    20681\n",
      "Name: count, dtype: int64\n"
     ]
    }
   ],
   "execution_count": 3
  },
  {
   "cell_type": "code",
   "id": "681f05c4",
   "metadata": {
    "jupyter": {
     "is_executing": true
    },
    "ExecuteTime": {
     "start_time": "2025-06-26T15:18:43.348869Z"
    }
   },
   "source": [
    "model_name = \"xlm-roberta-base\"\n",
    "tokenizer = AutoTokenizer.from_pretrained(model_name)\n",
    "\n",
    "# Tokenizador\n",
    "def tokenize_function(example):\n",
    "    return tokenizer(example[\"Text\"], truncation=True)\n",
    "\n",
    "tokenized_dataset = dataset.map(tokenize_function, batched=True)"
   ],
   "outputs": [],
   "execution_count": null
  },
  {
   "cell_type": "code",
   "id": "d116b3d8",
   "metadata": {
    "ExecuteTime": {
     "end_time": "2025-06-26T15:17:55.003925300Z",
     "start_time": "2025-06-26T15:16:30.169450Z"
    }
   },
   "source": [
    "# Dividir 70/30\n",
    "split_dataset = tokenized_dataset.train_test_split(test_size=0.3)\n",
    "train_dataset = split_dataset[\"train\"]\n",
    "eval_dataset = split_dataset[\"test\"]"
   ],
   "outputs": [],
   "execution_count": 63
  },
  {
   "cell_type": "code",
   "id": "bbbbcacb",
   "metadata": {
    "ExecuteTime": {
     "end_time": "2025-06-26T15:17:55.004925200Z",
     "start_time": "2025-06-26T15:16:30.285626Z"
    }
   },
   "source": [
    "print(tokenized_dataset[5])"
   ],
   "outputs": [
    {
     "name": "stdout",
     "output_type": "stream",
     "text": [
      "{'Text': 'thats not i try to say it was normal protests', 'labels': 0, '__index_level_0__': 145363, 'input_ids': [0, 450, 7, 959, 17, 9790, 47, 5154, 442, 509, 3638, 18782, 7, 2], 'attention_mask': [1, 1, 1, 1, 1, 1, 1, 1, 1, 1, 1, 1, 1, 1]}\n"
     ]
    }
   ],
   "execution_count": 64
  },
  {
   "cell_type": "code",
   "id": "f8910202",
   "metadata": {
    "ExecuteTime": {
     "end_time": "2025-06-26T15:17:55.004925200Z",
     "start_time": "2025-06-26T15:16:30.390047Z"
    }
   },
   "source": [
    "model = AutoModelForSequenceClassification.from_pretrained(model_name, num_labels=2)"
   ],
   "outputs": [
    {
     "name": "stderr",
     "output_type": "stream",
     "text": [
      "Some weights of XLMRobertaForSequenceClassification were not initialized from the model checkpoint at xlm-roberta-base and are newly initialized: ['classifier.dense.bias', 'classifier.dense.weight', 'classifier.out_proj.bias', 'classifier.out_proj.weight']\n",
      "You should probably TRAIN this model on a down-stream task to be able to use it for predictions and inference.\n"
     ]
    }
   ],
   "execution_count": 65
  },
  {
   "cell_type": "code",
   "id": "8b8cab86",
   "metadata": {
    "ExecuteTime": {
     "end_time": "2025-06-26T15:17:55.005928100Z",
     "start_time": "2025-06-26T15:16:30.771059Z"
    }
   },
   "source": [
    "import torch\n",
    "print(torch.cuda.is_available())     # → True si tienes GPU activa\n",
    "print(torch.cuda.get_device_name(0))"
   ],
   "outputs": [
    {
     "name": "stdout",
     "output_type": "stream",
     "text": [
      "True\n",
      "NVIDIA GeForce RTX 4060 Laptop GPU\n"
     ]
    }
   ],
   "execution_count": 66
  },
  {
   "cell_type": "code",
   "id": "f5eaaf5c",
   "metadata": {
    "ExecuteTime": {
     "end_time": "2025-06-26T15:17:55.005928100Z",
     "start_time": "2025-06-26T15:16:30.877085Z"
    }
   },
   "source": [
    "def compute_metrics(eval_pred):\n",
    "    logits, labels = eval_pred\n",
    "    predictions = np.argmax(logits, axis=-1)\n",
    "    precision, recall, f1, _ = precision_recall_fscore_support(labels, predictions, average='binary')\n",
    "    acc = accuracy_score(labels, predictions)\n",
    "    return {\n",
    "        \"accuracy\": acc,\n",
    "        \"precision\": precision,\n",
    "        \"recall\": recall,\n",
    "        \"f1\": f1,\n",
    "    }"
   ],
   "outputs": [],
   "execution_count": 67
  },
  {
   "cell_type": "code",
   "id": "21f2766f",
   "metadata": {
    "ExecuteTime": {
     "end_time": "2025-06-26T15:17:55.006927500Z",
     "start_time": "2025-06-26T15:16:30.984092Z"
    }
   },
   "source": [
    "training_args = TrainingArguments(\n",
    "    output_dir=\"./xlmr_bullying_results2\",\n",
    "    save_strategy=\"epoch\",\n",
    "    eval_strategy=\"epoch\",\n",
    "    logging_dir=\"./logs\",\n",
    "    per_device_train_batch_size=8,\n",
    "    per_device_eval_batch_size=8,\n",
    "    num_train_epochs=3,\n",
    "    weight_decay=0.01,\n",
    "    load_best_model_at_end=True,\n",
    ")\n",
    "from torch.nn import CrossEntropyLoss\n",
    "import torch\n",
    "\n",
    "class CustomTrainer(Trainer):\n",
    "    def compute_loss(self, model, inputs, return_outputs=False, num_items_in_batch = None):\n",
    "        labels = inputs.pop(\"labels\")\n",
    "        # Forward pass\n",
    "        outputs = model(**inputs)\n",
    "        logits = outputs.get(\"logits\")\n",
    "\n",
    "        # --- CLASS WEIGHTING ---\n",
    "        # Calculate weights to penalize errors on the minority class more\n",
    "        label_counts = df['labels'].value_counts().sort_index()\n",
    "        total_samples = label_counts.sum()\n",
    "        num_classes = len(label_counts)\n",
    "\n",
    "        # weight = total_samples / (num_classes * count_of_that_class)\n",
    "        weights = total_samples / (num_classes * label_counts)\n",
    "\n",
    "        # Convert weights to a tensor and move to the correct device (CPU/GPU)\n",
    "        class_weights = torch.tensor(weights.values, dtype=torch.float).to(self.args.device)\n",
    "\n",
    "        # Define the loss function with the calculated weights\n",
    "        loss_fct = CrossEntropyLoss(weight=class_weights)\n",
    "\n",
    "        # Compute the loss\n",
    "        loss = loss_fct(logits.view(-1, self.model.config.num_labels), labels.view(-1))\n",
    "\n",
    "        return (loss, outputs) if return_outputs else loss\n",
    "\n",
    "trainer = CustomTrainer(\n",
    "    model=model,\n",
    "    args=training_args,\n",
    "    train_dataset=train_dataset,\n",
    "    eval_dataset=eval_dataset,\n",
    "    tokenizer=tokenizer,\n",
    "    data_collator=DataCollatorWithPadding(tokenizer),\n",
    "    compute_metrics=compute_metrics,\n",
    ")\n",
    "\n",
    "trainer.train()"
   ],
   "outputs": [
    {
     "name": "stderr",
     "output_type": "stream",
     "text": [
      "C:\\Users\\SEBASTIAN\\AppData\\Local\\Temp\\ipykernel_29192\\3379724531.py:42: FutureWarning: `tokenizer` is deprecated and will be removed in version 5.0.0 for `CustomTrainer.__init__`. Use `processing_class` instead.\n",
      "  trainer = CustomTrainer(\n"
     ]
    },
    {
     "data": {
      "text/plain": [
       "<IPython.core.display.HTML object>"
      ],
      "text/html": [
       "\n",
       "    <div>\n",
       "      \n",
       "      <progress value='25' max='22242' style='width:300px; height:20px; vertical-align: middle;'></progress>\n",
       "      [   25/22242 01:11 < 19:08:55, 0.32 it/s, Epoch 0.00/3]\n",
       "    </div>\n",
       "    <table border=\"1\" class=\"dataframe\">\n",
       "  <thead>\n",
       " <tr style=\"text-align: left;\">\n",
       "      <th>Epoch</th>\n",
       "      <th>Training Loss</th>\n",
       "      <th>Validation Loss</th>\n",
       "    </tr>\n",
       "  </thead>\n",
       "  <tbody>\n",
       "  </tbody>\n",
       "</table><p>"
      ]
     },
     "metadata": {},
     "output_type": "display_data"
    },
    {
     "ename": "KeyboardInterrupt",
     "evalue": "",
     "output_type": "error",
     "traceback": [
      "\u001B[31m---------------------------------------------------------------------------\u001B[39m",
      "\u001B[31mKeyboardInterrupt\u001B[39m                         Traceback (most recent call last)",
      "\u001B[36mCell\u001B[39m\u001B[36m \u001B[39m\u001B[32mIn[68]\u001B[39m\u001B[32m, line 52\u001B[39m\n\u001B[32m     40\u001B[39m         \u001B[38;5;28;01mreturn\u001B[39;00m (loss, outputs) \u001B[38;5;28;01mif\u001B[39;00m return_outputs \u001B[38;5;28;01melse\u001B[39;00m loss\n\u001B[32m     42\u001B[39m trainer = CustomTrainer(\n\u001B[32m     43\u001B[39m     model=model,\n\u001B[32m     44\u001B[39m     args=training_args,\n\u001B[32m   (...)\u001B[39m\u001B[32m     49\u001B[39m     compute_metrics=compute_metrics,\n\u001B[32m     50\u001B[39m )\n\u001B[32m---> \u001B[39m\u001B[32m52\u001B[39m \u001B[43mtrainer\u001B[49m\u001B[43m.\u001B[49m\u001B[43mtrain\u001B[49m\u001B[43m(\u001B[49m\u001B[43m)\u001B[49m\n",
      "\u001B[36mFile \u001B[39m\u001B[32m~\\PycharmProjects\\ultima_bala\\.venv\\Lib\\site-packages\\transformers\\trainer.py:2240\u001B[39m, in \u001B[36mTrainer.train\u001B[39m\u001B[34m(self, resume_from_checkpoint, trial, ignore_keys_for_eval, **kwargs)\u001B[39m\n\u001B[32m   2238\u001B[39m         hf_hub_utils.enable_progress_bars()\n\u001B[32m   2239\u001B[39m \u001B[38;5;28;01melse\u001B[39;00m:\n\u001B[32m-> \u001B[39m\u001B[32m2240\u001B[39m     \u001B[38;5;28;01mreturn\u001B[39;00m \u001B[43minner_training_loop\u001B[49m\u001B[43m(\u001B[49m\n\u001B[32m   2241\u001B[39m \u001B[43m        \u001B[49m\u001B[43margs\u001B[49m\u001B[43m=\u001B[49m\u001B[43margs\u001B[49m\u001B[43m,\u001B[49m\n\u001B[32m   2242\u001B[39m \u001B[43m        \u001B[49m\u001B[43mresume_from_checkpoint\u001B[49m\u001B[43m=\u001B[49m\u001B[43mresume_from_checkpoint\u001B[49m\u001B[43m,\u001B[49m\n\u001B[32m   2243\u001B[39m \u001B[43m        \u001B[49m\u001B[43mtrial\u001B[49m\u001B[43m=\u001B[49m\u001B[43mtrial\u001B[49m\u001B[43m,\u001B[49m\n\u001B[32m   2244\u001B[39m \u001B[43m        \u001B[49m\u001B[43mignore_keys_for_eval\u001B[49m\u001B[43m=\u001B[49m\u001B[43mignore_keys_for_eval\u001B[49m\u001B[43m,\u001B[49m\n\u001B[32m   2245\u001B[39m \u001B[43m    \u001B[49m\u001B[43m)\u001B[49m\n",
      "\u001B[36mFile \u001B[39m\u001B[32m~\\PycharmProjects\\ultima_bala\\.venv\\Lib\\site-packages\\transformers\\trainer.py:2509\u001B[39m, in \u001B[36mTrainer._inner_training_loop\u001B[39m\u001B[34m(self, batch_size, args, resume_from_checkpoint, trial, ignore_keys_for_eval)\u001B[39m\n\u001B[32m   2507\u001B[39m update_step += \u001B[32m1\u001B[39m\n\u001B[32m   2508\u001B[39m num_batches = args.gradient_accumulation_steps \u001B[38;5;28;01mif\u001B[39;00m update_step != (total_updates - \u001B[32m1\u001B[39m) \u001B[38;5;28;01melse\u001B[39;00m remainder\n\u001B[32m-> \u001B[39m\u001B[32m2509\u001B[39m batch_samples, num_items_in_batch = \u001B[38;5;28;43mself\u001B[39;49m\u001B[43m.\u001B[49m\u001B[43mget_batch_samples\u001B[49m\u001B[43m(\u001B[49m\u001B[43mepoch_iterator\u001B[49m\u001B[43m,\u001B[49m\u001B[43m \u001B[49m\u001B[43mnum_batches\u001B[49m\u001B[43m,\u001B[49m\u001B[43m \u001B[49m\u001B[43margs\u001B[49m\u001B[43m.\u001B[49m\u001B[43mdevice\u001B[49m\u001B[43m)\u001B[49m\n\u001B[32m   2510\u001B[39m \u001B[38;5;28;01mfor\u001B[39;00m i, inputs \u001B[38;5;129;01min\u001B[39;00m \u001B[38;5;28menumerate\u001B[39m(batch_samples):\n\u001B[32m   2511\u001B[39m     step += \u001B[32m1\u001B[39m\n",
      "\u001B[36mFile \u001B[39m\u001B[32m~\\PycharmProjects\\ultima_bala\\.venv\\Lib\\site-packages\\transformers\\trainer.py:5263\u001B[39m, in \u001B[36mTrainer.get_batch_samples\u001B[39m\u001B[34m(self, epoch_iterator, num_batches, device)\u001B[39m\n\u001B[32m   5261\u001B[39m \u001B[38;5;28;01mfor\u001B[39;00m _ \u001B[38;5;129;01min\u001B[39;00m \u001B[38;5;28mrange\u001B[39m(num_batches):\n\u001B[32m   5262\u001B[39m     \u001B[38;5;28;01mtry\u001B[39;00m:\n\u001B[32m-> \u001B[39m\u001B[32m5263\u001B[39m         batch_samples.append(\u001B[38;5;28;43mnext\u001B[39;49m\u001B[43m(\u001B[49m\u001B[43mepoch_iterator\u001B[49m\u001B[43m)\u001B[49m)\n\u001B[32m   5264\u001B[39m     \u001B[38;5;28;01mexcept\u001B[39;00m \u001B[38;5;167;01mStopIteration\u001B[39;00m:\n\u001B[32m   5265\u001B[39m         \u001B[38;5;28;01mbreak\u001B[39;00m\n",
      "\u001B[36mFile \u001B[39m\u001B[32m~\\PycharmProjects\\ultima_bala\\.venv\\Lib\\site-packages\\accelerate\\data_loader.py:576\u001B[39m, in \u001B[36mDataLoaderShard.__iter__\u001B[39m\u001B[34m(self)\u001B[39m\n\u001B[32m    573\u001B[39m \u001B[38;5;28;01mtry\u001B[39;00m:\n\u001B[32m    574\u001B[39m     \u001B[38;5;66;03m# But we still move it to the device so it is done before `StopIteration` is reached\u001B[39;00m\n\u001B[32m    575\u001B[39m     \u001B[38;5;28;01mif\u001B[39;00m \u001B[38;5;28mself\u001B[39m.device \u001B[38;5;129;01mis\u001B[39;00m \u001B[38;5;129;01mnot\u001B[39;00m \u001B[38;5;28;01mNone\u001B[39;00m:\n\u001B[32m--> \u001B[39m\u001B[32m576\u001B[39m         current_batch = \u001B[43msend_to_device\u001B[49m\u001B[43m(\u001B[49m\u001B[43mcurrent_batch\u001B[49m\u001B[43m,\u001B[49m\u001B[43m \u001B[49m\u001B[38;5;28;43mself\u001B[39;49m\u001B[43m.\u001B[49m\u001B[43mdevice\u001B[49m\u001B[43m,\u001B[49m\u001B[43m \u001B[49m\u001B[43mnon_blocking\u001B[49m\u001B[43m=\u001B[49m\u001B[38;5;28;43mself\u001B[39;49m\u001B[43m.\u001B[49m\u001B[43m_non_blocking\u001B[49m\u001B[43m)\u001B[49m\n\u001B[32m    577\u001B[39m     \u001B[38;5;28mself\u001B[39m._update_state_dict()\n\u001B[32m    578\u001B[39m     next_batch = \u001B[38;5;28mnext\u001B[39m(dataloader_iter)\n",
      "\u001B[36mFile \u001B[39m\u001B[32m~\\PycharmProjects\\ultima_bala\\.venv\\Lib\\site-packages\\accelerate\\utils\\operations.py:153\u001B[39m, in \u001B[36msend_to_device\u001B[39m\u001B[34m(tensor, device, non_blocking, skip_keys)\u001B[39m\n\u001B[32m    151\u001B[39m     device = \u001B[33m\"\u001B[39m\u001B[33mnpu:0\u001B[39m\u001B[33m\"\u001B[39m\n\u001B[32m    152\u001B[39m \u001B[38;5;28;01mtry\u001B[39;00m:\n\u001B[32m--> \u001B[39m\u001B[32m153\u001B[39m     \u001B[38;5;28;01mreturn\u001B[39;00m \u001B[43mtensor\u001B[49m\u001B[43m.\u001B[49m\u001B[43mto\u001B[49m\u001B[43m(\u001B[49m\u001B[43mdevice\u001B[49m\u001B[43m,\u001B[49m\u001B[43m \u001B[49m\u001B[43mnon_blocking\u001B[49m\u001B[43m=\u001B[49m\u001B[43mnon_blocking\u001B[49m\u001B[43m)\u001B[49m\n\u001B[32m    154\u001B[39m \u001B[38;5;28;01mexcept\u001B[39;00m \u001B[38;5;167;01mTypeError\u001B[39;00m:  \u001B[38;5;66;03m# .to() doesn't accept non_blocking as kwarg\u001B[39;00m\n\u001B[32m    155\u001B[39m     \u001B[38;5;28;01mreturn\u001B[39;00m tensor.to(device)\n",
      "\u001B[36mFile \u001B[39m\u001B[32m~\\PycharmProjects\\ultima_bala\\.venv\\Lib\\site-packages\\transformers\\tokenization_utils_base.py:822\u001B[39m, in \u001B[36mBatchEncoding.to\u001B[39m\u001B[34m(self, device, non_blocking)\u001B[39m\n\u001B[32m    817\u001B[39m \u001B[38;5;66;03m# This check catches things like APEX blindly calling \"to\" on all inputs to a module\u001B[39;00m\n\u001B[32m    818\u001B[39m \u001B[38;5;66;03m# Otherwise it passes the casts down and casts the LongTensor containing the token idxs\u001B[39;00m\n\u001B[32m    819\u001B[39m \u001B[38;5;66;03m# into a HalfTensor\u001B[39;00m\n\u001B[32m    820\u001B[39m \u001B[38;5;28;01mif\u001B[39;00m \u001B[38;5;28misinstance\u001B[39m(device, \u001B[38;5;28mstr\u001B[39m) \u001B[38;5;129;01mor\u001B[39;00m is_torch_device(device) \u001B[38;5;129;01mor\u001B[39;00m \u001B[38;5;28misinstance\u001B[39m(device, \u001B[38;5;28mint\u001B[39m):\n\u001B[32m    821\u001B[39m     \u001B[38;5;28mself\u001B[39m.data = {\n\u001B[32m--> \u001B[39m\u001B[32m822\u001B[39m         k: \u001B[43mv\u001B[49m\u001B[43m.\u001B[49m\u001B[43mto\u001B[49m\u001B[43m(\u001B[49m\u001B[43mdevice\u001B[49m\u001B[43m=\u001B[49m\u001B[43mdevice\u001B[49m\u001B[43m,\u001B[49m\u001B[43m \u001B[49m\u001B[43mnon_blocking\u001B[49m\u001B[43m=\u001B[49m\u001B[43mnon_blocking\u001B[49m\u001B[43m)\u001B[49m \u001B[38;5;28;01mif\u001B[39;00m \u001B[38;5;28misinstance\u001B[39m(v, torch.Tensor) \u001B[38;5;28;01melse\u001B[39;00m v\n\u001B[32m    823\u001B[39m         \u001B[38;5;28;01mfor\u001B[39;00m k, v \u001B[38;5;129;01min\u001B[39;00m \u001B[38;5;28mself\u001B[39m.data.items()\n\u001B[32m    824\u001B[39m     }\n\u001B[32m    825\u001B[39m \u001B[38;5;28;01melse\u001B[39;00m:\n\u001B[32m    826\u001B[39m     logger.warning(\u001B[33mf\u001B[39m\u001B[33m\"\u001B[39m\u001B[33mAttempting to cast a BatchEncoding to type \u001B[39m\u001B[38;5;132;01m{\u001B[39;00m\u001B[38;5;28mstr\u001B[39m(device)\u001B[38;5;132;01m}\u001B[39;00m\u001B[33m. This is not supported.\u001B[39m\u001B[33m\"\u001B[39m)\n",
      "\u001B[31mKeyboardInterrupt\u001B[39m: "
     ]
    }
   ],
   "execution_count": 68
  },
  {
   "metadata": {},
   "cell_type": "code",
   "outputs": [],
   "execution_count": null,
   "source": "",
   "id": "93f487b7bc62f5d2"
  }
 ],
 "metadata": {
  "language_info": {
   "name": "python"
  }
 },
 "nbformat": 4,
 "nbformat_minor": 5
}
