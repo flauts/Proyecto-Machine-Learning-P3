{
 "cells": [
  {
   "cell_type": "code",
   "id": "47af4311",
   "metadata": {
    "ExecuteTime": {
     "end_time": "2025-06-27T18:11:34.131703Z",
     "start_time": "2025-06-27T18:10:50.460744Z"
    }
   },
   "source": [
    "import pandas as pd\n",
    "from datasets import Dataset\n",
    "from transformers import (\n",
    "    AutoTokenizer,\n",
    "    AutoModelForSequenceClassification,\n",
    "    Trainer,\n",
    "    TrainingArguments,\n",
    "    DataCollatorWithPadding,\n",
    ")\n",
    "import numpy as np\n",
    "from sklearn.metrics import accuracy_score, precision_recall_fscore_support"
   ],
   "outputs": [],
   "execution_count": 1
  },
  {
   "cell_type": "code",
   "id": "ce7cd512",
   "metadata": {
    "ExecuteTime": {
     "end_time": "2025-06-26T15:18:42.339764Z",
     "start_time": "2025-06-26T15:18:40.759785Z"
    }
   },
   "source": [
    "# Cargar el dataset\n",
    "df = pd.read_csv(\"BullyingFinal.csv\")\n",
    "\n",
    "df = df[[\"Text\", \"oh_label\"]].dropna()\n",
    "df[\"labels\"] = df[\"oh_label\"].astype(int)\n",
    "\n",
    "df = df.sample(frac=0.10,random_state=42)\n",
    "dataset = Dataset.from_pandas(df[[\"Text\", \"labels\"]])"
   ],
   "outputs": [],
   "execution_count": 2
  },
  {
   "metadata": {
    "ExecuteTime": {
     "end_time": "2025-06-26T15:18:43.323425Z",
     "start_time": "2025-06-26T15:18:43.318672Z"
    }
   },
   "cell_type": "code",
   "source": "print(df['labels'].value_counts())",
   "id": "412fa8054765c08f",
   "outputs": [
    {
     "name": "stdout",
     "output_type": "stream",
     "text": [
      "labels\n",
      "0    64041\n",
      "1    20681\n",
      "Name: count, dtype: int64\n"
     ]
    }
   ],
   "execution_count": 3
  },
  {
   "cell_type": "code",
   "id": "681f05c4",
   "metadata": {
    "ExecuteTime": {
     "end_time": "2025-06-26T15:18:50.282421Z",
     "start_time": "2025-06-26T15:18:43.348869Z"
    }
   },
   "source": [
    "model_name = \"xlm-roberta-base\"\n",
    "tokenizer = AutoTokenizer.from_pretrained(model_name)\n",
    "\n",
    "# Tokenizador\n",
    "def tokenize_function(example):\n",
    "    return tokenizer(example[\"Text\"], truncation=True)\n",
    "\n",
    "tokenized_dataset = dataset.map(tokenize_function, batched=True)"
   ],
   "outputs": [
    {
     "data": {
      "text/plain": [
       "Map:   0%|          | 0/84722 [00:00<?, ? examples/s]"
      ],
      "application/vnd.jupyter.widget-view+json": {
       "version_major": 2,
       "version_minor": 0,
       "model_id": "870824d7fa564103b8a37e2a144e5eee"
      }
     },
     "metadata": {},
     "output_type": "display_data"
    }
   ],
   "execution_count": 4
  },
  {
   "cell_type": "code",
   "id": "d116b3d8",
   "metadata": {
    "ExecuteTime": {
     "end_time": "2025-06-26T15:18:50.399293Z",
     "start_time": "2025-06-26T15:18:50.376560Z"
    }
   },
   "source": [
    "# Dividir 70/30\n",
    "split_dataset = tokenized_dataset.train_test_split(test_size=0.3)\n",
    "train_dataset = split_dataset[\"train\"]\n",
    "eval_dataset = split_dataset[\"test\"]"
   ],
   "outputs": [],
   "execution_count": 5
  },
  {
   "cell_type": "code",
   "id": "bbbbcacb",
   "metadata": {
    "ExecuteTime": {
     "end_time": "2025-06-26T15:18:50.497656Z",
     "start_time": "2025-06-26T15:18:50.493937Z"
    }
   },
   "source": [
    "print(tokenized_dataset[5])"
   ],
   "outputs": [
    {
     "name": "stdout",
     "output_type": "stream",
     "text": [
      "{'Text': 'thats not i try to say it was normal protests', 'labels': 0, '__index_level_0__': 145363, 'input_ids': [0, 450, 7, 959, 17, 9790, 47, 5154, 442, 509, 3638, 18782, 7, 2], 'attention_mask': [1, 1, 1, 1, 1, 1, 1, 1, 1, 1, 1, 1, 1, 1]}\n"
     ]
    }
   ],
   "execution_count": 6
  },
  {
   "cell_type": "code",
   "id": "f8910202",
   "metadata": {
    "ExecuteTime": {
     "end_time": "2025-06-26T15:18:51.154531Z",
     "start_time": "2025-06-26T15:18:50.509818Z"
    }
   },
   "source": [
    "model = AutoModelForSequenceClassification.from_pretrained(model_name, num_labels=2)"
   ],
   "outputs": [
    {
     "name": "stderr",
     "output_type": "stream",
     "text": [
      "Some weights of XLMRobertaForSequenceClassification were not initialized from the model checkpoint at xlm-roberta-base and are newly initialized: ['classifier.dense.bias', 'classifier.dense.weight', 'classifier.out_proj.bias', 'classifier.out_proj.weight']\n",
      "You should probably TRAIN this model on a down-stream task to be able to use it for predictions and inference.\n"
     ]
    }
   ],
   "execution_count": 7
  },
  {
   "cell_type": "code",
   "id": "8b8cab86",
   "metadata": {
    "ExecuteTime": {
     "end_time": "2025-06-26T15:18:51.460206Z",
     "start_time": "2025-06-26T15:18:51.346514Z"
    }
   },
   "source": [
    "import torch\n",
    "print(torch.cuda.is_available())     # → True si tienes GPU activa\n",
    "print(torch.cuda.get_device_name(0))"
   ],
   "outputs": [
    {
     "name": "stdout",
     "output_type": "stream",
     "text": [
      "True\n",
      "NVIDIA GeForce RTX 4060 Laptop GPU\n"
     ]
    }
   ],
   "execution_count": 8
  },
  {
   "cell_type": "code",
   "id": "f5eaaf5c",
   "metadata": {
    "ExecuteTime": {
     "end_time": "2025-06-26T15:18:51.580933Z",
     "start_time": "2025-06-26T15:18:51.577512Z"
    }
   },
   "source": [
    "def compute_metrics(eval_pred):\n",
    "    logits, labels = eval_pred\n",
    "    predictions = np.argmax(logits, axis=-1)\n",
    "    precision, recall, f1, _ = precision_recall_fscore_support(labels, predictions, average='binary')\n",
    "    acc = accuracy_score(labels, predictions)\n",
    "    return {\n",
    "        \"accuracy\": acc,\n",
    "        \"precision\": precision,\n",
    "        \"recall\": recall,\n",
    "        \"f1\": f1,\n",
    "    }"
   ],
   "outputs": [],
   "execution_count": 9
  },
  {
   "cell_type": "code",
   "id": "21f2766f",
   "metadata": {
    "ExecuteTime": {
     "end_time": "2025-06-26T18:23:18.474783Z",
     "start_time": "2025-06-26T15:18:51.690381Z"
    }
   },
   "source": [
    "training_args = TrainingArguments(\n",
    "    output_dir=\"./xlmr_bullying_results2\",\n",
    "    save_strategy=\"epoch\",\n",
    "    eval_strategy=\"epoch\",\n",
    "    logging_dir=\"./logs\",\n",
    "    per_device_train_batch_size=8,\n",
    "    per_device_eval_batch_size=8,\n",
    "    num_train_epochs=3,\n",
    "    weight_decay=0.01,\n",
    "    load_best_model_at_end=True,\n",
    ")\n",
    "from torch.nn import CrossEntropyLoss\n",
    "import torch\n",
    "\n",
    "class CustomTrainer(Trainer):\n",
    "    def compute_loss(self, model, inputs, return_outputs=False, num_items_in_batch = None):\n",
    "        labels = inputs.pop(\"labels\")\n",
    "        # Forward pass\n",
    "        outputs = model(**inputs)\n",
    "        logits = outputs.get(\"logits\")\n",
    "\n",
    "        # --- CLASS WEIGHTING ---\n",
    "        # Calculate weights to penalize errors on the minority class more\n",
    "        label_counts = df['labels'].value_counts().sort_index()\n",
    "        total_samples = label_counts.sum()\n",
    "        num_classes = len(label_counts)\n",
    "\n",
    "        # weight = total_samples / (num_classes * count_of_that_class)\n",
    "        weights = total_samples / (num_classes * label_counts)\n",
    "\n",
    "        # Convert weights to a tensor and move to the correct device (CPU/GPU)\n",
    "        class_weights = torch.tensor(weights.values, dtype=torch.float).to(self.args.device)\n",
    "\n",
    "        # Define the loss function with the calculated weights\n",
    "        loss_fct = CrossEntropyLoss(weight=class_weights)\n",
    "\n",
    "        # Compute the loss\n",
    "        loss = loss_fct(logits.view(-1, self.model.config.num_labels), labels.view(-1))\n",
    "\n",
    "        return (loss, outputs) if return_outputs else loss\n",
    "\n",
    "trainer = CustomTrainer(\n",
    "    model=model,\n",
    "    args=training_args,\n",
    "    train_dataset=train_dataset,\n",
    "    eval_dataset=eval_dataset,\n",
    "    tokenizer=tokenizer,\n",
    "    data_collator=DataCollatorWithPadding(tokenizer),\n",
    "    compute_metrics=compute_metrics,\n",
    ")\n",
    "\n",
    "trainer.train()"
   ],
   "outputs": [
    {
     "name": "stderr",
     "output_type": "stream",
     "text": [
      "C:\\Users\\SEBASTIAN\\AppData\\Local\\Temp\\ipykernel_36824\\3379724531.py:42: FutureWarning: `tokenizer` is deprecated and will be removed in version 5.0.0 for `CustomTrainer.__init__`. Use `processing_class` instead.\n",
      "  trainer = CustomTrainer(\n"
     ]
    },
    {
     "data": {
      "text/plain": [
       "<IPython.core.display.HTML object>"
      ],
      "text/html": [
       "\n",
       "    <div>\n",
       "      \n",
       "      <progress value='22242' max='22242' style='width:300px; height:20px; vertical-align: middle;'></progress>\n",
       "      [22242/22242 3:04:21, Epoch 3/3]\n",
       "    </div>\n",
       "    <table border=\"1\" class=\"dataframe\">\n",
       "  <thead>\n",
       " <tr style=\"text-align: left;\">\n",
       "      <th>Epoch</th>\n",
       "      <th>Training Loss</th>\n",
       "      <th>Validation Loss</th>\n",
       "      <th>Accuracy</th>\n",
       "      <th>Precision</th>\n",
       "      <th>Recall</th>\n",
       "      <th>F1</th>\n",
       "    </tr>\n",
       "  </thead>\n",
       "  <tbody>\n",
       "    <tr>\n",
       "      <td>1</td>\n",
       "      <td>0.695000</td>\n",
       "      <td>0.692022</td>\n",
       "      <td>0.755636</td>\n",
       "      <td>0.000000</td>\n",
       "      <td>0.000000</td>\n",
       "      <td>0.000000</td>\n",
       "    </tr>\n",
       "    <tr>\n",
       "      <td>2</td>\n",
       "      <td>0.686200</td>\n",
       "      <td>0.691541</td>\n",
       "      <td>0.755636</td>\n",
       "      <td>0.000000</td>\n",
       "      <td>0.000000</td>\n",
       "      <td>0.000000</td>\n",
       "    </tr>\n",
       "    <tr>\n",
       "      <td>3</td>\n",
       "      <td>0.434300</td>\n",
       "      <td>0.406548</td>\n",
       "      <td>0.903883</td>\n",
       "      <td>0.786584</td>\n",
       "      <td>0.832555</td>\n",
       "      <td>0.808917</td>\n",
       "    </tr>\n",
       "  </tbody>\n",
       "</table><p>"
      ]
     },
     "metadata": {},
     "output_type": "display_data"
    },
    {
     "name": "stderr",
     "output_type": "stream",
     "text": [
      "C:\\Users\\SEBASTIAN\\PycharmProjects\\ultima_bala\\.venv\\Lib\\site-packages\\sklearn\\metrics\\_classification.py:1706: UndefinedMetricWarning: Precision is ill-defined and being set to 0.0 due to no predicted samples. Use `zero_division` parameter to control this behavior.\n",
      "  _warn_prf(average, modifier, f\"{metric.capitalize()} is\", result.shape[0])\n",
      "C:\\Users\\SEBASTIAN\\PycharmProjects\\ultima_bala\\.venv\\Lib\\site-packages\\sklearn\\metrics\\_classification.py:1706: UndefinedMetricWarning: Precision is ill-defined and being set to 0.0 due to no predicted samples. Use `zero_division` parameter to control this behavior.\n",
      "  _warn_prf(average, modifier, f\"{metric.capitalize()} is\", result.shape[0])\n"
     ]
    },
    {
     "data": {
      "text/plain": [
       "TrainOutput(global_step=22242, training_loss=0.6540221036011105, metrics={'train_runtime': 11063.1211, 'train_samples_per_second': 16.082, 'train_steps_per_second': 2.01, 'total_flos': 1.853713379435304e+16, 'train_loss': 0.6540221036011105, 'epoch': 3.0})"
      ]
     },
     "execution_count": 10,
     "metadata": {},
     "output_type": "execute_result"
    }
   ],
   "execution_count": 10
  },
  {
   "metadata": {
    "ExecuteTime": {
     "end_time": "2025-06-26T18:23:18.610930Z",
     "start_time": "2025-06-26T18:23:18.608470Z"
    }
   },
   "cell_type": "code",
   "source": "",
   "id": "93f487b7bc62f5d2",
   "outputs": [],
   "execution_count": null
  }
 ],
 "metadata": {
  "language_info": {
   "name": "python"
  }
 },
 "nbformat": 4,
 "nbformat_minor": 5
}
