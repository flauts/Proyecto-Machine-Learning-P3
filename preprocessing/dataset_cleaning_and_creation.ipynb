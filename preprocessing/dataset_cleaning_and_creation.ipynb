{
 "cells": [
  {
   "cell_type": "code",
   "id": "initial_id",
   "metadata": {
    "collapsed": true,
    "ExecuteTime": {
     "end_time": "2025-07-05T01:59:59.847120Z",
     "start_time": "2025-07-05T01:59:59.844357Z"
    }
   },
   "source": "import pandas as pd",
   "outputs": [],
   "execution_count": 10
  },
  {
   "metadata": {
    "ExecuteTime": {
     "end_time": "2025-07-05T02:00:00.214150Z",
     "start_time": "2025-07-05T01:59:59.867056Z"
    }
   },
   "cell_type": "code",
   "source": [
    "df1 = pd.read_csv(\"../datasets/original/cb_multi_labeled_balanced.csv\")\n",
    "df2 = pd.read_csv(\"../datasets/original/cyberbullying_tweets.csv\")\n",
    "print(df1.shape)\n",
    "print(df2.shape)\n",
    "print(df1.label.unique())"
   ],
   "id": "63af770f50c89c07",
   "outputs": [
    {
     "name": "stdout",
     "output_type": "stream",
     "text": [
      "(99990, 2)\n",
      "(47692, 2)\n",
      "['ethnicity/race' 'not_cyberbullying' 'religion' 'gender/sexual']\n"
     ]
    }
   ],
   "execution_count": 11
  },
  {
   "metadata": {
    "ExecuteTime": {
     "end_time": "2025-07-05T02:03:14.919436Z",
     "start_time": "2025-07-05T02:00:00.228906Z"
    }
   },
   "cell_type": "code",
   "source": [
    "print(df1.label.unique())\n",
    "print(df2.cyberbullying_type.unique())\n",
    "df3 = pd.DataFrame(columns=['text'])\n",
    "for i in df2.index:\n",
    "    if df2.loc[i].cyberbullying_type == \"gender\":\n",
    "        new_row = pd.DataFrame({'text': [df2.loc[i].tweet_text], 'label': ['gender/sexual']})\n",
    "        df1 = pd.concat([df1, new_row], ignore_index=True)\n",
    "    elif df2.loc[i].cyberbullying_type == \"ethnicity\":\n",
    "        new_row = pd.DataFrame({'text': [df2.loc[i].tweet_text], 'label': ['ethnicity/race']})\n",
    "        df1 = pd.concat([df1, new_row], ignore_index=True)\n",
    "    elif df2.loc[i].cyberbullying_type == \"religion\":\n",
    "        new_row = pd.DataFrame({'text': [df2.loc[i].tweet_text], 'label': ['religion']})\n",
    "        df1 = pd.concat([df1, new_row], ignore_index=True)\n",
    "    elif df2.loc[i].cyberbullying_type == \"not_cyberbullying\":\n",
    "        new_row = pd.DataFrame({'text': [df2.loc[i].tweet_text], 'label': ['not_cyberbullying']})\n",
    "        df1 = pd.concat([df1, new_row], ignore_index=True)\n",
    "    elif df2.loc[i].cyberbullying_type == \"other_cyberbullying\":\n",
    "        new_row = pd.DataFrame({'text': [df2.loc[i].tweet_text], 'label': ['other_cyberbullying']})\n",
    "        df1 = pd.concat([df1, new_row], ignore_index=True)\n",
    "    elif df2.loc[i].cyberbullying_type == \"age\":\n",
    "        new_row = pd.DataFrame({'text': [df2.loc[i].tweet_text],'label':['other_cyberbullying']})\n",
    "        df1 = pd.concat([df1, new_row], ignore_index=True)\n",
    "    else:\n",
    "        new_row = pd.DataFrame({'text': [df2.loc[i].tweet_text]})\n",
    "        df3 = pd.concat([df3, new_row], ignore_index=True)\n",
    "        print(\"ania\")"
   ],
   "id": "bef899271db007a7",
   "outputs": [
    {
     "name": "stdout",
     "output_type": "stream",
     "text": [
      "['ethnicity/race' 'not_cyberbullying' 'religion' 'gender/sexual']\n",
      "['not_cyberbullying' 'gender' 'religion' 'other_cyberbullying' 'age'\n",
      " 'ethnicity']\n"
     ]
    }
   ],
   "execution_count": 12
  },
  {
   "metadata": {
    "ExecuteTime": {
     "end_time": "2025-07-05T02:03:15.040962Z",
     "start_time": "2025-07-05T02:03:15.030432Z"
    }
   },
   "cell_type": "code",
   "source": [
    "print(df1.shape)\n",
    "print(df1['label'].value_counts())\n",
    "print(df3.shape)"
   ],
   "id": "76863a8d1a375f43",
   "outputs": [
    {
     "name": "stdout",
     "output_type": "stream",
     "text": [
      "(147682, 2)\n",
      "label\n",
      "not_cyberbullying      57945\n",
      "gender/sexual          24973\n",
      "ethnicity/race         24961\n",
      "religion               23988\n",
      "other_cyberbullying    15815\n",
      "Name: count, dtype: int64\n",
      "(0, 1)\n"
     ]
    }
   ],
   "execution_count": 13
  },
  {
   "metadata": {
    "ExecuteTime": {
     "end_time": "2025-07-05T02:03:17.259543Z",
     "start_time": "2025-07-05T02:03:15.083743Z"
    }
   },
   "cell_type": "code",
   "source": [
    "import re\n",
    "import re\n",
    "import pandas as pd\n",
    "\n",
    "# Regex pattern to match emojis and symbols\n",
    "EMOJI_PATTERN = re.compile(\n",
    "    \"[\"\n",
    "    \"\\U0001F600-\\U0001F64F\"  # emoticons\n",
    "    \"\\U0001F300-\\U0001F5FF\"  # symbols & pictographs\n",
    "    \"\\U0001F680-\\U0001F6FF\"  # transport & map symbols\n",
    "    \"\\U0001F1E0-\\U0001F1FF\"  # flags (iOS)\n",
    "    \"\\U00002500-\\U00002BEF\"  # Chinese characters and lines\n",
    "    \"\\U00002702-\\U000027B0\"\n",
    "    \"\\U0001F900-\\U0001F9FF\"  # supplemental symbols\n",
    "    \"\\U0001FA70-\\U0001FAFF\"  # more supplemental\n",
    "    \"\\u200d\"                 # zero-width joiner\n",
    "    \"\\u2640-\\u2642\"\n",
    "    \"\\u2600-\\u2B55\"\n",
    "    \"\\u23cf\"\n",
    "    \"\\u23e9\"\n",
    "    \"\\u231a\"\n",
    "    \"\\ufe0f\"                 # dingbats\n",
    "    \"\\u3030\"\n",
    "    \"]+\",\n",
    "    flags=re.UNICODE\n",
    ")\n",
    "\n",
    "def clean_text(text):\n",
    "    if pd.isnull(text) or not isinstance(text, str) or text.strip() == \"\":\n",
    "        return \"\"\n",
    "    text = text.lower()\n",
    "    text = re.sub(r\"@[A-Za-z0-9_]+\", \"\", text)       # Remove @mentions\n",
    "    text = re.sub(r\"http\\S+\", \"\", text)              # Remove URLs\n",
    "    text = EMOJI_PATTERN.sub(r\"\", text)              # Remove emojis\n",
    "    # Convert hashtags to regular words (remove # but keep content)\n",
    "    text = re.sub(r\"#([A-Za-z0-9_]+)\", r\"\\1\", text)  # #MachineLearning -> MachineLearning\n",
    "\n",
    "    text = re.sub(r\"[^a-z0-9]\", \" \", text)           # Keep alphanumerics\n",
    "    text = re.sub(r\"\\s+\", \" \", text).strip()         # Normalize whitespace\n",
    "    return text if text else \"empty\"\n",
    "\n",
    "df1[\"text\"] = df1[\"text\"].apply(clean_text)\n",
    "df3[\"text\"] = df3[\"text\"].apply(clean_text)\n"
   ],
   "id": "b26021f2937251a5",
   "outputs": [],
   "execution_count": 14
  },
  {
   "metadata": {
    "ExecuteTime": {
     "end_time": "2025-07-05T02:03:17.281439Z",
     "start_time": "2025-07-05T02:03:17.274859Z"
    }
   },
   "cell_type": "code",
   "source": "df1.head()",
   "id": "7b15be7ed9ca744c",
   "outputs": [
    {
     "data": {
      "text/plain": [
       "                                                text              label\n",
       "0           any real nigga isn t letting this happen     ethnicity/race\n",
       "1  i didn t even mention mexico but the us is far...  not_cyberbullying\n",
       "2         the only thing i wish i wish a nigga would     ethnicity/race\n",
       "3  you saudias are not friends of muslim idiots c...           religion\n",
       "4  and yet the maga want to do just that the juda...           religion"
      ],
      "text/html": [
       "<div>\n",
       "<style scoped>\n",
       "    .dataframe tbody tr th:only-of-type {\n",
       "        vertical-align: middle;\n",
       "    }\n",
       "\n",
       "    .dataframe tbody tr th {\n",
       "        vertical-align: top;\n",
       "    }\n",
       "\n",
       "    .dataframe thead th {\n",
       "        text-align: right;\n",
       "    }\n",
       "</style>\n",
       "<table border=\"1\" class=\"dataframe\">\n",
       "  <thead>\n",
       "    <tr style=\"text-align: right;\">\n",
       "      <th></th>\n",
       "      <th>text</th>\n",
       "      <th>label</th>\n",
       "    </tr>\n",
       "  </thead>\n",
       "  <tbody>\n",
       "    <tr>\n",
       "      <th>0</th>\n",
       "      <td>any real nigga isn t letting this happen</td>\n",
       "      <td>ethnicity/race</td>\n",
       "    </tr>\n",
       "    <tr>\n",
       "      <th>1</th>\n",
       "      <td>i didn t even mention mexico but the us is far...</td>\n",
       "      <td>not_cyberbullying</td>\n",
       "    </tr>\n",
       "    <tr>\n",
       "      <th>2</th>\n",
       "      <td>the only thing i wish i wish a nigga would</td>\n",
       "      <td>ethnicity/race</td>\n",
       "    </tr>\n",
       "    <tr>\n",
       "      <th>3</th>\n",
       "      <td>you saudias are not friends of muslim idiots c...</td>\n",
       "      <td>religion</td>\n",
       "    </tr>\n",
       "    <tr>\n",
       "      <th>4</th>\n",
       "      <td>and yet the maga want to do just that the juda...</td>\n",
       "      <td>religion</td>\n",
       "    </tr>\n",
       "  </tbody>\n",
       "</table>\n",
       "</div>"
      ]
     },
     "execution_count": 15,
     "metadata": {},
     "output_type": "execute_result"
    }
   ],
   "execution_count": 15
  },
  {
   "metadata": {
    "ExecuteTime": {
     "end_time": "2025-07-05T02:03:17.630122Z",
     "start_time": "2025-07-05T02:03:17.324574Z"
    }
   },
   "cell_type": "code",
   "source": [
    "df1.to_csv('BullyingMultiClase.csv', index=False)\n",
    "df3.to_csv('BullyingPredict.csv', index=False)"
   ],
   "id": "d4477d3a3d7a1f8c",
   "outputs": [],
   "execution_count": 16
  },
  {
   "metadata": {
    "ExecuteTime": {
     "end_time": "2025-07-05T02:06:39.111913Z",
     "start_time": "2025-07-05T02:06:38.410818Z"
    }
   },
   "cell_type": "code",
   "source": [
    "import pandas as pd\n",
    "from sklearn.model_selection import train_test_split\n",
    "\n",
    "# Load your full dataset\n",
    "df = pd.read_csv('../datasets/original/BullyingMultiClase.csv')\n",
    "\n",
    "# Split into train (80%) and test (20%)\n",
    "train_df, test_df = train_test_split(\n",
    "    df,\n",
    "    test_size=0.2,\n",
    "    random_state=42,\n",
    "    stratify=df['label']  # Maintains class distribution\n",
    ")\n",
    "\n",
    "# Save to separate files\n",
    "train_df.to_csv('train.csv', index=False)\n",
    "test_df.to_csv('test.csv', index=False)\n",
    "\n",
    "print(f\"Original dataset: {len(df)} samples\")\n",
    "print(f\"Train set: {len(train_df)} samples ({len(train_df)/len(df)*100:.1f}%)\")\n",
    "print(f\"Test set: {len(test_df)} samples ({len(test_df)/len(df)*100:.1f}%)\")\n",
    "\n",
    "# Check class distribution\n",
    "print(\"\\nClass distribution:\")\n",
    "print(\"Original:\")\n",
    "print(df['label'].value_counts(normalize=True))\n",
    "print(\"\\nTrain:\")\n",
    "print(train_df['label'].value_counts(normalize=True))\n",
    "print(\"\\nTest:\")\n",
    "print(test_df['label'].value_counts(normalize=True))"
   ],
   "id": "19bcde02b595f23e",
   "outputs": [
    {
     "name": "stdout",
     "output_type": "stream",
     "text": [
      "Original dataset: 147682 samples\n",
      "Train set: 118145 samples (80.0%)\n",
      "Test set: 29537 samples (20.0%)\n",
      "\n",
      "Class distribution:\n",
      "Original:\n",
      "label\n",
      "not_cyberbullying      0.392363\n",
      "gender/sexual          0.169100\n",
      "ethnicity/race         0.169019\n",
      "religion               0.162430\n",
      "other_cyberbullying    0.107088\n",
      "Name: proportion, dtype: float64\n",
      "\n",
      "Train:\n",
      "label\n",
      "not_cyberbullying      0.392365\n",
      "gender/sexual          0.169097\n",
      "ethnicity/race         0.169021\n",
      "religion               0.162428\n",
      "other_cyberbullying    0.107089\n",
      "Name: proportion, dtype: float64\n",
      "\n",
      "Test:\n",
      "label\n",
      "not_cyberbullying      0.392355\n",
      "gender/sexual          0.169110\n",
      "ethnicity/race         0.169008\n",
      "religion               0.162440\n",
      "other_cyberbullying    0.107086\n",
      "Name: proportion, dtype: float64\n"
     ]
    }
   ],
   "execution_count": 18
  }
 ],
 "metadata": {
  "kernelspec": {
   "display_name": "Python 3",
   "language": "python",
   "name": "python3"
  },
  "language_info": {
   "codemirror_mode": {
    "name": "ipython",
    "version": 2
   },
   "file_extension": ".py",
   "mimetype": "text/x-python",
   "name": "python",
   "nbconvert_exporter": "python",
   "pygments_lexer": "ipython2",
   "version": "2.7.6"
  }
 },
 "nbformat": 4,
 "nbformat_minor": 5
}
