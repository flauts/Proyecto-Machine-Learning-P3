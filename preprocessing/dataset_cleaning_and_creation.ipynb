{
 "cells": [
  {
   "cell_type": "code",
   "id": "initial_id",
   "metadata": {
    "collapsed": true,
    "ExecuteTime": {
     "end_time": "2025-07-05T05:11:00.154469Z",
     "start_time": "2025-07-05T05:11:00.151604Z"
    }
   },
   "source": "import pandas as pd",
   "outputs": [],
   "execution_count": 25
  },
  {
   "metadata": {
    "ExecuteTime": {
     "end_time": "2025-07-05T05:11:00.273616Z",
     "start_time": "2025-07-05T05:11:00.167840Z"
    }
   },
   "cell_type": "code",
   "source": [
    "df1 = pd.read_csv(\"../datasets/original/train_data.csv\")\n",
    "df2 = pd.read_csv(\"../datasets/original/test_data.csv\")\n",
    "df3 = pd.read_csv(\"../datasets/original/valid_data.csv\")\n",
    "df1.head()"
   ],
   "id": "63af770f50c89c07",
   "outputs": [
    {
     "data": {
      "text/plain": [
       "                                                text                label\n",
       "0  i hate ppl from high school y’all used to bull...                  age\n",
       "1           Kat and Andre are such assholes OMG #mkr    not_cyberbullying\n",
       "2  if she is new,she will not have access to go t...                  age\n",
       "3  Fuck David duke racist who thinks America belo...            ethnicity\n",
       "4  I May not say it a lot but I hate apologetic A...  other_cyberbullying"
      ],
      "text/html": [
       "<div>\n",
       "<style scoped>\n",
       "    .dataframe tbody tr th:only-of-type {\n",
       "        vertical-align: middle;\n",
       "    }\n",
       "\n",
       "    .dataframe tbody tr th {\n",
       "        vertical-align: top;\n",
       "    }\n",
       "\n",
       "    .dataframe thead th {\n",
       "        text-align: right;\n",
       "    }\n",
       "</style>\n",
       "<table border=\"1\" class=\"dataframe\">\n",
       "  <thead>\n",
       "    <tr style=\"text-align: right;\">\n",
       "      <th></th>\n",
       "      <th>text</th>\n",
       "      <th>label</th>\n",
       "    </tr>\n",
       "  </thead>\n",
       "  <tbody>\n",
       "    <tr>\n",
       "      <th>0</th>\n",
       "      <td>i hate ppl from high school y’all used to bull...</td>\n",
       "      <td>age</td>\n",
       "    </tr>\n",
       "    <tr>\n",
       "      <th>1</th>\n",
       "      <td>Kat and Andre are such assholes OMG #mkr</td>\n",
       "      <td>not_cyberbullying</td>\n",
       "    </tr>\n",
       "    <tr>\n",
       "      <th>2</th>\n",
       "      <td>if she is new,she will not have access to go t...</td>\n",
       "      <td>age</td>\n",
       "    </tr>\n",
       "    <tr>\n",
       "      <th>3</th>\n",
       "      <td>Fuck David duke racist who thinks America belo...</td>\n",
       "      <td>ethnicity</td>\n",
       "    </tr>\n",
       "    <tr>\n",
       "      <th>4</th>\n",
       "      <td>I May not say it a lot but I hate apologetic A...</td>\n",
       "      <td>other_cyberbullying</td>\n",
       "    </tr>\n",
       "  </tbody>\n",
       "</table>\n",
       "</div>"
      ]
     },
     "execution_count": 26,
     "metadata": {},
     "output_type": "execute_result"
    }
   ],
   "execution_count": 26
  },
  {
   "metadata": {
    "ExecuteTime": {
     "end_time": "2025-07-05T05:11:00.317235Z",
     "start_time": "2025-07-05T05:11:00.311299Z"
    }
   },
   "cell_type": "code",
   "source": [
    "print(df1.label.unique())\n",
    "print(df2.label.unique())"
   ],
   "id": "bef899271db007a7",
   "outputs": [
    {
     "name": "stdout",
     "output_type": "stream",
     "text": [
      "['age' 'not_cyberbullying' 'ethnicity' 'other_cyberbullying' 'gender'\n",
      " 'religion']\n",
      "['ethnicity' 'gender' 'other_cyberbullying' 'not_cyberbullying' 'age'\n",
      " 'religion']\n"
     ]
    }
   ],
   "execution_count": 27
  },
  {
   "metadata": {
    "ExecuteTime": {
     "end_time": "2025-07-05T05:11:01.068149Z",
     "start_time": "2025-07-05T05:11:00.374780Z"
    }
   },
   "cell_type": "code",
   "source": [
    "import re\n",
    "import re\n",
    "import pandas as pd\n",
    "\n",
    "# Regex pattern to match emojis and symbols\n",
    "EMOJI_PATTERN = re.compile(\n",
    "    \"[\"\n",
    "    \"\\U0001F600-\\U0001F64F\"  # emoticons\n",
    "    \"\\U0001F300-\\U0001F5FF\"  # symbols & pictographs\n",
    "    \"\\U0001F680-\\U0001F6FF\"  # transport & map symbols\n",
    "    \"\\U0001F1E0-\\U0001F1FF\"  # flags (iOS)\n",
    "    \"\\U00002500-\\U00002BEF\"  # Chinese characters and lines\n",
    "    \"\\U00002702-\\U000027B0\"\n",
    "    \"\\U0001F900-\\U0001F9FF\"  # supplemental symbols\n",
    "    \"\\U0001FA70-\\U0001FAFF\"  # more supplemental\n",
    "    \"\\u200d\"                 # zero-width joiner\n",
    "    \"\\u2640-\\u2642\"\n",
    "    \"\\u2600-\\u2B55\"\n",
    "    \"\\u23cf\"\n",
    "    \"\\u23e9\"\n",
    "    \"\\u231a\"\n",
    "    \"\\ufe0f\"                 # dingbats\n",
    "    \"\\u3030\"\n",
    "    \"]+\",\n",
    "    flags=re.UNICODE\n",
    ")\n",
    "\n",
    "def clean_text(text):\n",
    "    if pd.isnull(text) or not isinstance(text, str) or text.strip() == \"\":\n",
    "        return \"\"\n",
    "    text = text.lower()\n",
    "    text = re.sub(r\"@[A-Za-z0-9_]+\", \"\", text)       # Remove @mentions\n",
    "    text = re.sub(r\"http\\S+\", \"\", text)              # Remove URLs\n",
    "    text = EMOJI_PATTERN.sub(r\"\", text)              # Remove emojis\n",
    "    # Convert hashtags to regular words (remove # but keep content)\n",
    "    text = re.sub(r\"#([A-Za-z0-9_]+)\", r\"\\1\", text)  # #MachineLearning -> MachineLearning\n",
    "\n",
    "    text = re.sub(r\"[^a-z0-9]\", \" \", text)           # Keep alphanumerics\n",
    "    text = re.sub(r\"\\s+\", \" \", text).strip()         # Normalize whitespace\n",
    "    return text if text else \"empty\"\n",
    "\n",
    "df1[\"text\"] = df1[\"text\"].apply(clean_text)\n",
    "df2[\"text\"] = df2[\"text\"].apply(clean_text)\n",
    "df3[\"text\"] = df3[\"text\"].apply(clean_text)\n"
   ],
   "id": "b26021f2937251a5",
   "outputs": [],
   "execution_count": 28
  },
  {
   "metadata": {
    "ExecuteTime": {
     "end_time": "2025-07-05T05:11:01.095832Z",
     "start_time": "2025-07-05T05:11:01.090170Z"
    }
   },
   "cell_type": "code",
   "source": "df1.head()",
   "id": "7b15be7ed9ca744c",
   "outputs": [
    {
     "data": {
      "text/plain": [
       "                                                text                label\n",
       "0  i hate ppl from high school y all used to bull...                  age\n",
       "1            kat and andre are such assholes omg mkr    not_cyberbullying\n",
       "2  if she is new she will not have access to go t...                  age\n",
       "3  fuck david duke racist who thinks america belo...            ethnicity\n",
       "4  i may not say it a lot but i hate apologetic a...  other_cyberbullying"
      ],
      "text/html": [
       "<div>\n",
       "<style scoped>\n",
       "    .dataframe tbody tr th:only-of-type {\n",
       "        vertical-align: middle;\n",
       "    }\n",
       "\n",
       "    .dataframe tbody tr th {\n",
       "        vertical-align: top;\n",
       "    }\n",
       "\n",
       "    .dataframe thead th {\n",
       "        text-align: right;\n",
       "    }\n",
       "</style>\n",
       "<table border=\"1\" class=\"dataframe\">\n",
       "  <thead>\n",
       "    <tr style=\"text-align: right;\">\n",
       "      <th></th>\n",
       "      <th>text</th>\n",
       "      <th>label</th>\n",
       "    </tr>\n",
       "  </thead>\n",
       "  <tbody>\n",
       "    <tr>\n",
       "      <th>0</th>\n",
       "      <td>i hate ppl from high school y all used to bull...</td>\n",
       "      <td>age</td>\n",
       "    </tr>\n",
       "    <tr>\n",
       "      <th>1</th>\n",
       "      <td>kat and andre are such assholes omg mkr</td>\n",
       "      <td>not_cyberbullying</td>\n",
       "    </tr>\n",
       "    <tr>\n",
       "      <th>2</th>\n",
       "      <td>if she is new she will not have access to go t...</td>\n",
       "      <td>age</td>\n",
       "    </tr>\n",
       "    <tr>\n",
       "      <th>3</th>\n",
       "      <td>fuck david duke racist who thinks america belo...</td>\n",
       "      <td>ethnicity</td>\n",
       "    </tr>\n",
       "    <tr>\n",
       "      <th>4</th>\n",
       "      <td>i may not say it a lot but i hate apologetic a...</td>\n",
       "      <td>other_cyberbullying</td>\n",
       "    </tr>\n",
       "  </tbody>\n",
       "</table>\n",
       "</div>"
      ]
     },
     "execution_count": 29,
     "metadata": {},
     "output_type": "execute_result"
    }
   ],
   "execution_count": 29
  },
  {
   "metadata": {
    "ExecuteTime": {
     "end_time": "2025-07-05T05:11:01.253676Z",
     "start_time": "2025-07-05T05:11:01.142780Z"
    }
   },
   "cell_type": "code",
   "source": [
    "df1.to_csv('train.csv', index=False)\n",
    "df2.to_csv('test.csv', index=False)\n",
    "df3.to_csv('valid.csv', index=False)"
   ],
   "id": "d4477d3a3d7a1f8c",
   "outputs": [],
   "execution_count": 30
  },
  {
   "metadata": {
    "ExecuteTime": {
     "end_time": "2025-07-05T05:11:01.297298Z",
     "start_time": "2025-07-05T05:11:01.288596Z"
    }
   },
   "cell_type": "code",
   "source": [
    "import pandas as pd\n",
    "from sklearn.model_selection import train_test_split\n",
    "\n",
    "train_df = df1\n",
    "test_df = df2\n",
    "\n",
    "# Check class distribution\n",
    "print(\"\\nClass distribution:\")\n",
    "print(\"Original:\")\n",
    "print(\"\\nTrain:\")\n",
    "print(train_df['label'].value_counts(normalize=True))\n",
    "print(\"\\nTest:\")\n",
    "print(test_df['label'].value_counts(normalize=True))"
   ],
   "id": "19bcde02b595f23e",
   "outputs": [
    {
     "name": "stdout",
     "output_type": "stream",
     "text": [
      "\n",
      "Class distribution:\n",
      "Original:\n",
      "\n",
      "Train:\n",
      "label\n",
      "gender                 0.167575\n",
      "not_cyberbullying      0.167470\n",
      "religion               0.167436\n",
      "age                    0.167261\n",
      "ethnicity              0.166562\n",
      "other_cyberbullying    0.163696\n",
      "Name: proportion, dtype: float64\n",
      "\n",
      "Test:\n",
      "label\n",
      "not_cyberbullying      0.170248\n",
      "other_cyberbullying    0.168990\n",
      "age                    0.168047\n",
      "ethnicity              0.168047\n",
      "religion               0.164168\n",
      "gender                 0.160499\n",
      "Name: proportion, dtype: float64\n"
     ]
    }
   ],
   "execution_count": 31
  },
  {
   "metadata": {
    "ExecuteTime": {
     "end_time": "2025-07-05T05:17:14.287258Z",
     "start_time": "2025-07-05T05:17:14.139178Z"
    }
   },
   "cell_type": "code",
   "source": [
    "train_df = pd.read_csv('../datasets/train.csv')\n",
    "val_df = pd.read_csv('../datasets/valid.csv')\n",
    "\n",
    "combined_df = pd.concat([train_df, val_df], axis=0, ignore_index=True)\n",
    "combined_df.to_csv('train.csv', index=False)\n"
   ],
   "id": "fe408edb6fec478d",
   "outputs": [],
   "execution_count": 33
  }
 ],
 "metadata": {
  "kernelspec": {
   "display_name": "Python 3",
   "language": "python",
   "name": "python3"
  },
  "language_info": {
   "codemirror_mode": {
    "name": "ipython",
    "version": 2
   },
   "file_extension": ".py",
   "mimetype": "text/x-python",
   "name": "python",
   "nbconvert_exporter": "python",
   "pygments_lexer": "ipython2",
   "version": "2.7.6"
  }
 },
 "nbformat": 4,
 "nbformat_minor": 5
}
