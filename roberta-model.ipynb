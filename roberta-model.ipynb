{
 "cells": [
  {
   "cell_type": "code",
   "id": "initial_id",
   "metadata": {
    "collapsed": true,
    "ExecuteTime": {
     "end_time": "2025-07-03T23:46:23.012943Z",
     "start_time": "2025-07-03T23:46:19.386555Z"
    }
   },
   "source": [
    "import pandas as pd\n",
    "import datasets"
   ],
   "outputs": [
    {
     "name": "stderr",
     "output_type": "stream",
     "text": [
      "C:\\Users\\SEBASTIAN\\AppData\\Local\\Programs\\Python\\Python313\\Lib\\site-packages\\tqdm\\auto.py:21: TqdmWarning: IProgress not found. Please update jupyter and ipywidgets. See https://ipywidgets.readthedocs.io/en/stable/user_install.html\n",
      "  from .autonotebook import tqdm as notebook_tqdm\n"
     ]
    }
   ],
   "execution_count": 1
  },
  {
   "metadata": {},
   "cell_type": "markdown",
   "source": "# Load CSV",
   "id": "e9d312dfdc18dd38"
  },
  {
   "metadata": {
    "ExecuteTime": {
     "end_time": "2025-07-03T23:46:23.272930Z",
     "start_time": "2025-07-03T23:46:23.024308Z"
    }
   },
   "cell_type": "code",
   "source": [
    "df_train = pd.read_csv(\"BullyingMultiClase.csv\")\n",
    "df_predict = pd.read_csv(\"BullyingPredict.csv\")"
   ],
   "id": "c193280a902cd422",
   "outputs": [],
   "execution_count": 2
  },
  {
   "metadata": {},
   "cell_type": "markdown",
   "source": "# Tokenize",
   "id": "65ab83a24dfe2d36"
  },
  {
   "metadata": {
    "ExecuteTime": {
     "end_time": "2025-07-03T23:46:50.351099Z",
     "start_time": "2025-07-03T23:46:23.782065Z"
    }
   },
   "cell_type": "code",
   "source": [
    "from transformers import AutoTokenizer\n",
    "\n",
    "model_checkpoint = 'xlm-roberta-base'\n",
    "tokenizer = AutoTokenizer.from_pretrained(model_checkpoint)\n"
   ],
   "id": "ba8ded2b47a5e3d7",
   "outputs": [],
   "execution_count": 3
  },
  {
   "metadata": {
    "ExecuteTime": {
     "end_time": "2025-07-03T23:55:24.256247Z",
     "start_time": "2025-07-03T23:55:24.253015Z"
    }
   },
   "cell_type": "code",
   "source": [
    "def tokenize_text(input):\n",
    "    return tokenizer(input['text'], padding=True, truncation=True, max_length=150)"
   ],
   "id": "dff5b72447f24307",
   "outputs": [],
   "execution_count": 7
  },
  {
   "metadata": {
    "ExecuteTime": {
     "end_time": "2025-07-04T00:00:04.570965Z",
     "start_time": "2025-07-03T23:59:46.449838Z"
    }
   },
   "cell_type": "code",
   "source": "tokenized_dataset = df_train.apply(tokenize_text, axis=1)",
   "id": "2a6d366df1175daf",
   "outputs": [],
   "execution_count": 14
  },
  {
   "metadata": {
    "ExecuteTime": {
     "end_time": "2025-07-04T00:00:20.653991Z",
     "start_time": "2025-07-04T00:00:20.649427Z"
    }
   },
   "cell_type": "code",
   "source": "tokenized_dataset[456]",
   "id": "f7ffcfb70d0bd544",
   "outputs": [
    {
     "data": {
      "text/plain": [
       "{'input_ids': [0, 156, 52540, 11488, 6079, 150878, 136, 53560, 45137, 60680, 124017, 112664, 16177, 1363, 70, 25443, 136, 678, 501, 1434, 39, 124901, 347, 143, 53418, 19916, 15490, 1919, 8060, 136, 2843, 678, 221, 1174, 1756, 8798, 2750, 7228, 4049, 10336, 111, 6, 1814, 7, 237, 2843, 10, 32786, 111, 70, 24, 238, 105237, 1379, 604, 136, 2843, 678, 2], 'attention_mask': [1, 1, 1, 1, 1, 1, 1, 1, 1, 1, 1, 1, 1, 1, 1, 1, 1, 1, 1, 1, 1, 1, 1, 1, 1, 1, 1, 1, 1, 1, 1, 1, 1, 1, 1, 1, 1, 1, 1, 1, 1, 1, 1, 1, 1, 1, 1, 1, 1, 1, 1, 1, 1, 1, 1, 1, 1, 1, 1]}"
      ]
     },
     "execution_count": 17,
     "metadata": {},
     "output_type": "execute_result"
    }
   ],
   "execution_count": 17
  }
 ],
 "metadata": {
  "kernelspec": {
   "display_name": "Python 3",
   "language": "python",
   "name": "python3"
  },
  "language_info": {
   "codemirror_mode": {
    "name": "ipython",
    "version": 2
   },
   "file_extension": ".py",
   "mimetype": "text/x-python",
   "name": "python",
   "nbconvert_exporter": "python",
   "pygments_lexer": "ipython2",
   "version": "2.7.6"
  }
 },
 "nbformat": 4,
 "nbformat_minor": 5
}
